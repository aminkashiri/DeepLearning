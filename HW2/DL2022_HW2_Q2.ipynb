{
  "nbformat": 4,
  "nbformat_minor": 0,
  "metadata": {
    "colab": {
      "provenance": []
    },
    "kernelspec": {
      "name": "python3",
      "display_name": "Python 3"
    },
    "language_info": {
      "name": "python"
    }
  },
  "cells": [
    {
      "cell_type": "code",
      "execution_count": null,
      "metadata": {
        "id": "xxjmDJMaJE7n"
      },
      "outputs": [],
      "source": [
        "import pandas as pd\n",
        "import torch"
      ]
    },
    {
      "cell_type": "code",
      "source": [
        "batch_size = 8\n",
        "learning_rate = 0.01\n",
        "device = torch.device('cuda') if torch.cuda.is_available() else torch.device('cpu')"
      ],
      "metadata": {
        "id": "m0Qi-gfno-vM"
      },
      "execution_count": null,
      "outputs": []
    },
    {
      "cell_type": "code",
      "source": [
        "df = pd.read_csv('international_matches.csv')\n",
        "df.loc[15000]"
      ],
      "metadata": {
        "colab": {
          "base_uri": "https://localhost:8080/"
        },
        "id": "NNdC0-nGTc_e",
        "outputId": "f88e4c04-93ea-418f-ab72-397805296fe0"
      },
      "execution_count": null,
      "outputs": [
        {
          "output_type": "execute_result",
          "data": {
            "text/plain": [
              "date                                               2012-06-02\n",
              "home_team                                               Sudan\n",
              "away_team                                              Zambia\n",
              "home_team_continent                                    Africa\n",
              "away_team_continent                                    Africa\n",
              "home_team_fifa_rank                                       113\n",
              "away_team_fifa_rank                                        40\n",
              "home_team_total_fifa_points                               292\n",
              "away_team_total_fifa_points                               639\n",
              "home_team_score                                             0\n",
              "away_team_score                                             3\n",
              "tournament                       FIFA World Cup qualification\n",
              "city                                                 Khartoum\n",
              "country                                                 Sudan\n",
              "neutral_location                                        False\n",
              "shoot_out                                                  No\n",
              "home_team_result                                         Lose\n",
              "home_team_goalkeeper_score                                NaN\n",
              "away_team_goalkeeper_score                                NaN\n",
              "home_team_mean_defense_score                              NaN\n",
              "home_team_mean_offense_score                              NaN\n",
              "home_team_mean_midfield_score                             NaN\n",
              "away_team_mean_defense_score                              NaN\n",
              "away_team_mean_offense_score                              NaN\n",
              "away_team_mean_midfield_score                             NaN\n",
              "Name: 15000, dtype: object"
            ]
          },
          "metadata": {},
          "execution_count": 8
        }
      ]
    },
    {
      "cell_type": "code",
      "source": [
        "df.columns"
      ],
      "metadata": {
        "colab": {
          "base_uri": "https://localhost:8080/"
        },
        "id": "PmC--KNNTily",
        "outputId": "36d2f4c5-7409-41c3-e7a3-7d34c78cee22"
      },
      "execution_count": null,
      "outputs": [
        {
          "output_type": "execute_result",
          "data": {
            "text/plain": [
              "Index(['date', 'home_team', 'away_team', 'home_team_continent',\n",
              "       'away_team_continent', 'home_team_fifa_rank', 'away_team_fifa_rank',\n",
              "       'home_team_total_fifa_points', 'away_team_total_fifa_points',\n",
              "       'home_team_score', 'away_team_score', 'tournament', 'city', 'country',\n",
              "       'neutral_location', 'shoot_out', 'home_team_result',\n",
              "       'home_team_goalkeeper_score', 'away_team_goalkeeper_score',\n",
              "       'home_team_mean_defense_score', 'home_team_mean_offense_score',\n",
              "       'home_team_mean_midfield_score', 'away_team_mean_defense_score',\n",
              "       'away_team_mean_offense_score', 'away_team_mean_midfield_score'],\n",
              "      dtype='object')"
            ]
          },
          "metadata": {},
          "execution_count": 9
        }
      ]
    },
    {
      "cell_type": "code",
      "source": [
        "df.iloc[-10:]"
      ],
      "metadata": {
        "colab": {
          "base_uri": "https://localhost:8080/",
          "height": 630
        },
        "id": "SX8BUns2T2xI",
        "outputId": "26ee7cb5-fd18-4322-ac7b-07bf142e7762"
      },
      "execution_count": null,
      "outputs": [
        {
          "output_type": "execute_result",
          "data": {
            "text/plain": [
              "             date               home_team            away_team  \\\n",
              "23911  2022-06-14                 Ukraine  Republic of Ireland   \n",
              "23912  2022-06-14  Bosnia and Herzegovina              Finland   \n",
              "23913  2022-06-14                 Romania           Montenegro   \n",
              "23914  2022-06-14              Luxembourg        Faroe Islands   \n",
              "23915  2022-06-14                  Turkey            Lithuania   \n",
              "23916  2022-06-14                 Moldova              Andorra   \n",
              "23917  2022-06-14           Liechtenstein               Latvia   \n",
              "23918  2022-06-14                   Chile                Ghana   \n",
              "23919  2022-06-14                   Japan              Tunisia   \n",
              "23920  2022-06-14          Korea Republic                Egypt   \n",
              "\n",
              "      home_team_continent away_team_continent  home_team_fifa_rank  \\\n",
              "23911              Europe              Europe                   27   \n",
              "23912              Europe              Europe                   59   \n",
              "23913              Europe              Europe                   48   \n",
              "23914              Europe              Europe                   94   \n",
              "23915              Europe              Europe                   43   \n",
              "23916              Europe              Europe                  180   \n",
              "23917              Europe              Europe                  192   \n",
              "23918       South America              Africa                   28   \n",
              "23919                Asia              Africa                   23   \n",
              "23920                Asia              Africa                   29   \n",
              "\n",
              "       away_team_fifa_rank  home_team_total_fifa_points  \\\n",
              "23911                   47                         1535   \n",
              "23912                   57                         1388   \n",
              "23913                   70                         1446   \n",
              "23914                  124                         1229   \n",
              "23915                  138                         1461   \n",
              "23916                  153                          932   \n",
              "23917                  135                          895   \n",
              "23918                   60                         1526   \n",
              "23919                   35                         1553   \n",
              "23920                   32                         1519   \n",
              "\n",
              "       away_team_total_fifa_points  home_team_score  ...  shoot_out  \\\n",
              "23911                         1449                1  ...         No   \n",
              "23912                         1406                3  ...         No   \n",
              "23913                         1342                0  ...         No   \n",
              "23914                         1137                2  ...         No   \n",
              "23915                         1092                2  ...         No   \n",
              "23916                         1040                2  ...         No   \n",
              "23917                         1105                0  ...         No   \n",
              "23918                         1387                0  ...        Yes   \n",
              "23919                         1499                0  ...         No   \n",
              "23920                         1500                4  ...         No   \n",
              "\n",
              "      home_team_result home_team_goalkeeper_score away_team_goalkeeper_score  \\\n",
              "23911             Draw                       75.0                       75.0   \n",
              "23912              Win                       76.0                       83.0   \n",
              "23913             Lose                       77.0                       65.0   \n",
              "23914             Draw                       69.0                        NaN   \n",
              "23915              Win                       79.0                       71.0   \n",
              "23916              Win                       65.0                        NaN   \n",
              "23917             Lose                        NaN                       65.0   \n",
              "23918             Lose                       79.0                       74.0   \n",
              "23919             Lose                       73.0                        NaN   \n",
              "23920              Win                       75.0                        NaN   \n",
              "\n",
              "       home_team_mean_defense_score home_team_mean_offense_score  \\\n",
              "23911                          74.8                         78.7   \n",
              "23912                          74.2                         77.0   \n",
              "23913                          73.5                         73.7   \n",
              "23914                          68.5                          NaN   \n",
              "23915                          78.2                         76.7   \n",
              "23916                           NaN                          NaN   \n",
              "23917                           NaN                          NaN   \n",
              "23918                          75.5                         76.7   \n",
              "23919                          75.2                         75.0   \n",
              "23920                          73.0                         80.0   \n",
              "\n",
              "      home_team_mean_midfield_score  away_team_mean_defense_score  \\\n",
              "23911                          80.0                          76.5   \n",
              "23912                          78.0                          70.0   \n",
              "23913                          75.0                          76.2   \n",
              "23914                          69.8                           NaN   \n",
              "23915                          78.2                           NaN   \n",
              "23916                           NaN                           NaN   \n",
              "23917                           NaN                           NaN   \n",
              "23918                          78.2                          75.5   \n",
              "23919                          77.5                          70.8   \n",
              "23920                          73.8                           NaN   \n",
              "\n",
              "       away_team_mean_offense_score  away_team_mean_midfield_score  \n",
              "23911                          72.7                           73.8  \n",
              "23912                          72.3                           73.5  \n",
              "23913                          74.7                           68.2  \n",
              "23914                           NaN                            NaN  \n",
              "23915                           NaN                            NaN  \n",
              "23916                           NaN                            NaN  \n",
              "23917                           NaN                            NaN  \n",
              "23918                          76.0                           78.2  \n",
              "23919                          72.3                           74.0  \n",
              "23920                          79.3                           70.8  \n",
              "\n",
              "[10 rows x 25 columns]"
            ],
            "text/html": [
              "\n",
              "  <div id=\"df-53904cfe-3267-4c61-be63-9639bd95cfe4\">\n",
              "    <div class=\"colab-df-container\">\n",
              "      <div>\n",
              "<style scoped>\n",
              "    .dataframe tbody tr th:only-of-type {\n",
              "        vertical-align: middle;\n",
              "    }\n",
              "\n",
              "    .dataframe tbody tr th {\n",
              "        vertical-align: top;\n",
              "    }\n",
              "\n",
              "    .dataframe thead th {\n",
              "        text-align: right;\n",
              "    }\n",
              "</style>\n",
              "<table border=\"1\" class=\"dataframe\">\n",
              "  <thead>\n",
              "    <tr style=\"text-align: right;\">\n",
              "      <th></th>\n",
              "      <th>date</th>\n",
              "      <th>home_team</th>\n",
              "      <th>away_team</th>\n",
              "      <th>home_team_continent</th>\n",
              "      <th>away_team_continent</th>\n",
              "      <th>home_team_fifa_rank</th>\n",
              "      <th>away_team_fifa_rank</th>\n",
              "      <th>home_team_total_fifa_points</th>\n",
              "      <th>away_team_total_fifa_points</th>\n",
              "      <th>home_team_score</th>\n",
              "      <th>...</th>\n",
              "      <th>shoot_out</th>\n",
              "      <th>home_team_result</th>\n",
              "      <th>home_team_goalkeeper_score</th>\n",
              "      <th>away_team_goalkeeper_score</th>\n",
              "      <th>home_team_mean_defense_score</th>\n",
              "      <th>home_team_mean_offense_score</th>\n",
              "      <th>home_team_mean_midfield_score</th>\n",
              "      <th>away_team_mean_defense_score</th>\n",
              "      <th>away_team_mean_offense_score</th>\n",
              "      <th>away_team_mean_midfield_score</th>\n",
              "    </tr>\n",
              "  </thead>\n",
              "  <tbody>\n",
              "    <tr>\n",
              "      <th>23911</th>\n",
              "      <td>2022-06-14</td>\n",
              "      <td>Ukraine</td>\n",
              "      <td>Republic of Ireland</td>\n",
              "      <td>Europe</td>\n",
              "      <td>Europe</td>\n",
              "      <td>27</td>\n",
              "      <td>47</td>\n",
              "      <td>1535</td>\n",
              "      <td>1449</td>\n",
              "      <td>1</td>\n",
              "      <td>...</td>\n",
              "      <td>No</td>\n",
              "      <td>Draw</td>\n",
              "      <td>75.0</td>\n",
              "      <td>75.0</td>\n",
              "      <td>74.8</td>\n",
              "      <td>78.7</td>\n",
              "      <td>80.0</td>\n",
              "      <td>76.5</td>\n",
              "      <td>72.7</td>\n",
              "      <td>73.8</td>\n",
              "    </tr>\n",
              "    <tr>\n",
              "      <th>23912</th>\n",
              "      <td>2022-06-14</td>\n",
              "      <td>Bosnia and Herzegovina</td>\n",
              "      <td>Finland</td>\n",
              "      <td>Europe</td>\n",
              "      <td>Europe</td>\n",
              "      <td>59</td>\n",
              "      <td>57</td>\n",
              "      <td>1388</td>\n",
              "      <td>1406</td>\n",
              "      <td>3</td>\n",
              "      <td>...</td>\n",
              "      <td>No</td>\n",
              "      <td>Win</td>\n",
              "      <td>76.0</td>\n",
              "      <td>83.0</td>\n",
              "      <td>74.2</td>\n",
              "      <td>77.0</td>\n",
              "      <td>78.0</td>\n",
              "      <td>70.0</td>\n",
              "      <td>72.3</td>\n",
              "      <td>73.5</td>\n",
              "    </tr>\n",
              "    <tr>\n",
              "      <th>23913</th>\n",
              "      <td>2022-06-14</td>\n",
              "      <td>Romania</td>\n",
              "      <td>Montenegro</td>\n",
              "      <td>Europe</td>\n",
              "      <td>Europe</td>\n",
              "      <td>48</td>\n",
              "      <td>70</td>\n",
              "      <td>1446</td>\n",
              "      <td>1342</td>\n",
              "      <td>0</td>\n",
              "      <td>...</td>\n",
              "      <td>No</td>\n",
              "      <td>Lose</td>\n",
              "      <td>77.0</td>\n",
              "      <td>65.0</td>\n",
              "      <td>73.5</td>\n",
              "      <td>73.7</td>\n",
              "      <td>75.0</td>\n",
              "      <td>76.2</td>\n",
              "      <td>74.7</td>\n",
              "      <td>68.2</td>\n",
              "    </tr>\n",
              "    <tr>\n",
              "      <th>23914</th>\n",
              "      <td>2022-06-14</td>\n",
              "      <td>Luxembourg</td>\n",
              "      <td>Faroe Islands</td>\n",
              "      <td>Europe</td>\n",
              "      <td>Europe</td>\n",
              "      <td>94</td>\n",
              "      <td>124</td>\n",
              "      <td>1229</td>\n",
              "      <td>1137</td>\n",
              "      <td>2</td>\n",
              "      <td>...</td>\n",
              "      <td>No</td>\n",
              "      <td>Draw</td>\n",
              "      <td>69.0</td>\n",
              "      <td>NaN</td>\n",
              "      <td>68.5</td>\n",
              "      <td>NaN</td>\n",
              "      <td>69.8</td>\n",
              "      <td>NaN</td>\n",
              "      <td>NaN</td>\n",
              "      <td>NaN</td>\n",
              "    </tr>\n",
              "    <tr>\n",
              "      <th>23915</th>\n",
              "      <td>2022-06-14</td>\n",
              "      <td>Turkey</td>\n",
              "      <td>Lithuania</td>\n",
              "      <td>Europe</td>\n",
              "      <td>Europe</td>\n",
              "      <td>43</td>\n",
              "      <td>138</td>\n",
              "      <td>1461</td>\n",
              "      <td>1092</td>\n",
              "      <td>2</td>\n",
              "      <td>...</td>\n",
              "      <td>No</td>\n",
              "      <td>Win</td>\n",
              "      <td>79.0</td>\n",
              "      <td>71.0</td>\n",
              "      <td>78.2</td>\n",
              "      <td>76.7</td>\n",
              "      <td>78.2</td>\n",
              "      <td>NaN</td>\n",
              "      <td>NaN</td>\n",
              "      <td>NaN</td>\n",
              "    </tr>\n",
              "    <tr>\n",
              "      <th>23916</th>\n",
              "      <td>2022-06-14</td>\n",
              "      <td>Moldova</td>\n",
              "      <td>Andorra</td>\n",
              "      <td>Europe</td>\n",
              "      <td>Europe</td>\n",
              "      <td>180</td>\n",
              "      <td>153</td>\n",
              "      <td>932</td>\n",
              "      <td>1040</td>\n",
              "      <td>2</td>\n",
              "      <td>...</td>\n",
              "      <td>No</td>\n",
              "      <td>Win</td>\n",
              "      <td>65.0</td>\n",
              "      <td>NaN</td>\n",
              "      <td>NaN</td>\n",
              "      <td>NaN</td>\n",
              "      <td>NaN</td>\n",
              "      <td>NaN</td>\n",
              "      <td>NaN</td>\n",
              "      <td>NaN</td>\n",
              "    </tr>\n",
              "    <tr>\n",
              "      <th>23917</th>\n",
              "      <td>2022-06-14</td>\n",
              "      <td>Liechtenstein</td>\n",
              "      <td>Latvia</td>\n",
              "      <td>Europe</td>\n",
              "      <td>Europe</td>\n",
              "      <td>192</td>\n",
              "      <td>135</td>\n",
              "      <td>895</td>\n",
              "      <td>1105</td>\n",
              "      <td>0</td>\n",
              "      <td>...</td>\n",
              "      <td>No</td>\n",
              "      <td>Lose</td>\n",
              "      <td>NaN</td>\n",
              "      <td>65.0</td>\n",
              "      <td>NaN</td>\n",
              "      <td>NaN</td>\n",
              "      <td>NaN</td>\n",
              "      <td>NaN</td>\n",
              "      <td>NaN</td>\n",
              "      <td>NaN</td>\n",
              "    </tr>\n",
              "    <tr>\n",
              "      <th>23918</th>\n",
              "      <td>2022-06-14</td>\n",
              "      <td>Chile</td>\n",
              "      <td>Ghana</td>\n",
              "      <td>South America</td>\n",
              "      <td>Africa</td>\n",
              "      <td>28</td>\n",
              "      <td>60</td>\n",
              "      <td>1526</td>\n",
              "      <td>1387</td>\n",
              "      <td>0</td>\n",
              "      <td>...</td>\n",
              "      <td>Yes</td>\n",
              "      <td>Lose</td>\n",
              "      <td>79.0</td>\n",
              "      <td>74.0</td>\n",
              "      <td>75.5</td>\n",
              "      <td>76.7</td>\n",
              "      <td>78.2</td>\n",
              "      <td>75.5</td>\n",
              "      <td>76.0</td>\n",
              "      <td>78.2</td>\n",
              "    </tr>\n",
              "    <tr>\n",
              "      <th>23919</th>\n",
              "      <td>2022-06-14</td>\n",
              "      <td>Japan</td>\n",
              "      <td>Tunisia</td>\n",
              "      <td>Asia</td>\n",
              "      <td>Africa</td>\n",
              "      <td>23</td>\n",
              "      <td>35</td>\n",
              "      <td>1553</td>\n",
              "      <td>1499</td>\n",
              "      <td>0</td>\n",
              "      <td>...</td>\n",
              "      <td>No</td>\n",
              "      <td>Lose</td>\n",
              "      <td>73.0</td>\n",
              "      <td>NaN</td>\n",
              "      <td>75.2</td>\n",
              "      <td>75.0</td>\n",
              "      <td>77.5</td>\n",
              "      <td>70.8</td>\n",
              "      <td>72.3</td>\n",
              "      <td>74.0</td>\n",
              "    </tr>\n",
              "    <tr>\n",
              "      <th>23920</th>\n",
              "      <td>2022-06-14</td>\n",
              "      <td>Korea Republic</td>\n",
              "      <td>Egypt</td>\n",
              "      <td>Asia</td>\n",
              "      <td>Africa</td>\n",
              "      <td>29</td>\n",
              "      <td>32</td>\n",
              "      <td>1519</td>\n",
              "      <td>1500</td>\n",
              "      <td>4</td>\n",
              "      <td>...</td>\n",
              "      <td>No</td>\n",
              "      <td>Win</td>\n",
              "      <td>75.0</td>\n",
              "      <td>NaN</td>\n",
              "      <td>73.0</td>\n",
              "      <td>80.0</td>\n",
              "      <td>73.8</td>\n",
              "      <td>NaN</td>\n",
              "      <td>79.3</td>\n",
              "      <td>70.8</td>\n",
              "    </tr>\n",
              "  </tbody>\n",
              "</table>\n",
              "<p>10 rows × 25 columns</p>\n",
              "</div>\n",
              "      <button class=\"colab-df-convert\" onclick=\"convertToInteractive('df-53904cfe-3267-4c61-be63-9639bd95cfe4')\"\n",
              "              title=\"Convert this dataframe to an interactive table.\"\n",
              "              style=\"display:none;\">\n",
              "        \n",
              "  <svg xmlns=\"http://www.w3.org/2000/svg\" height=\"24px\"viewBox=\"0 0 24 24\"\n",
              "       width=\"24px\">\n",
              "    <path d=\"M0 0h24v24H0V0z\" fill=\"none\"/>\n",
              "    <path d=\"M18.56 5.44l.94 2.06.94-2.06 2.06-.94-2.06-.94-.94-2.06-.94 2.06-2.06.94zm-11 1L8.5 8.5l.94-2.06 2.06-.94-2.06-.94L8.5 2.5l-.94 2.06-2.06.94zm10 10l.94 2.06.94-2.06 2.06-.94-2.06-.94-.94-2.06-.94 2.06-2.06.94z\"/><path d=\"M17.41 7.96l-1.37-1.37c-.4-.4-.92-.59-1.43-.59-.52 0-1.04.2-1.43.59L10.3 9.45l-7.72 7.72c-.78.78-.78 2.05 0 2.83L4 21.41c.39.39.9.59 1.41.59.51 0 1.02-.2 1.41-.59l7.78-7.78 2.81-2.81c.8-.78.8-2.07 0-2.86zM5.41 20L4 18.59l7.72-7.72 1.47 1.35L5.41 20z\"/>\n",
              "  </svg>\n",
              "      </button>\n",
              "      \n",
              "  <style>\n",
              "    .colab-df-container {\n",
              "      display:flex;\n",
              "      flex-wrap:wrap;\n",
              "      gap: 12px;\n",
              "    }\n",
              "\n",
              "    .colab-df-convert {\n",
              "      background-color: #E8F0FE;\n",
              "      border: none;\n",
              "      border-radius: 50%;\n",
              "      cursor: pointer;\n",
              "      display: none;\n",
              "      fill: #1967D2;\n",
              "      height: 32px;\n",
              "      padding: 0 0 0 0;\n",
              "      width: 32px;\n",
              "    }\n",
              "\n",
              "    .colab-df-convert:hover {\n",
              "      background-color: #E2EBFA;\n",
              "      box-shadow: 0px 1px 2px rgba(60, 64, 67, 0.3), 0px 1px 3px 1px rgba(60, 64, 67, 0.15);\n",
              "      fill: #174EA6;\n",
              "    }\n",
              "\n",
              "    [theme=dark] .colab-df-convert {\n",
              "      background-color: #3B4455;\n",
              "      fill: #D2E3FC;\n",
              "    }\n",
              "\n",
              "    [theme=dark] .colab-df-convert:hover {\n",
              "      background-color: #434B5C;\n",
              "      box-shadow: 0px 1px 3px 1px rgba(0, 0, 0, 0.15);\n",
              "      filter: drop-shadow(0px 1px 2px rgba(0, 0, 0, 0.3));\n",
              "      fill: #FFFFFF;\n",
              "    }\n",
              "  </style>\n",
              "\n",
              "      <script>\n",
              "        const buttonEl =\n",
              "          document.querySelector('#df-53904cfe-3267-4c61-be63-9639bd95cfe4 button.colab-df-convert');\n",
              "        buttonEl.style.display =\n",
              "          google.colab.kernel.accessAllowed ? 'block' : 'none';\n",
              "\n",
              "        async function convertToInteractive(key) {\n",
              "          const element = document.querySelector('#df-53904cfe-3267-4c61-be63-9639bd95cfe4');\n",
              "          const dataTable =\n",
              "            await google.colab.kernel.invokeFunction('convertToInteractive',\n",
              "                                                     [key], {});\n",
              "          if (!dataTable) return;\n",
              "\n",
              "          const docLinkHtml = 'Like what you see? Visit the ' +\n",
              "            '<a target=\"_blank\" href=https://colab.research.google.com/notebooks/data_table.ipynb>data table notebook</a>'\n",
              "            + ' to learn more about interactive tables.';\n",
              "          element.innerHTML = '';\n",
              "          dataTable['output_type'] = 'display_data';\n",
              "          await google.colab.output.renderOutput(dataTable, element);\n",
              "          const docLink = document.createElement('div');\n",
              "          docLink.innerHTML = docLinkHtml;\n",
              "          element.appendChild(docLink);\n",
              "        }\n",
              "      </script>\n",
              "    </div>\n",
              "  </div>\n",
              "  "
            ]
          },
          "metadata": {},
          "execution_count": 10
        }
      ]
    },
    {
      "cell_type": "code",
      "source": [
        "import matplotlib\n",
        "import matplotlib.pyplot as plt\n",
        "%matplotlib inline"
      ],
      "metadata": {
        "id": "bfAdEwpSVqwg"
      },
      "execution_count": null,
      "outputs": []
    },
    {
      "cell_type": "code",
      "source": [
        "from matplotlib.colors import ListedColormap\n",
        "color_map = {\n",
        "    'Win': 0,\n",
        "    'Draw': 1,\n",
        "    'Lose': 2,\n",
        "}\n",
        "df['y'] = df.home_team_result.apply(lambda x: color_map[x])\n",
        "color_map = ListedColormap(['tomato', 'black', 'royalblue'])\n",
        "plt.scatter(df['home_team_fifa_rank'], df['away_team_fifa_rank'], c=df['y'], cmap=color_map, s=4)"
      ],
      "metadata": {
        "colab": {
          "base_uri": "https://localhost:8080/",
          "height": 282
        },
        "id": "YpIeyYV0W5P-",
        "outputId": "e99d44ee-9dab-494b-a91b-341390b0330e"
      },
      "execution_count": null,
      "outputs": [
        {
          "output_type": "execute_result",
          "data": {
            "text/plain": [
              "<matplotlib.collections.PathCollection at 0x7f328928bfa0>"
            ]
          },
          "metadata": {},
          "execution_count": 12
        },
        {
          "output_type": "display_data",
          "data": {
            "text/plain": [
              "<Figure size 432x288 with 1 Axes>"
            ],
            "image/png": "[encoded data removed]"
          },
          "metadata": {
            "needs_background": "light"
          }
        }
      ]
    },
    {
      "cell_type": "code",
      "source": [
        "columns = ['home_team_total_fifa_points', 'away_team_total_fifa_points', 'home_team_fifa_rank', 'away_team_fifa_rank', 'y']\n",
        "print(len(df))\n",
        "clean_df = df[(df.home_team_total_fifa_points != 0) & (df.away_team_total_fifa_points != 0)]\n",
        "print(len(clean_df))"
      ],
      "metadata": {
        "colab": {
          "base_uri": "https://localhost:8080/"
        },
        "id": "Ci8vYNZvXCXf",
        "outputId": "e7b9bdfe-d30c-4e9f-b737-59a599538255"
      },
      "execution_count": null,
      "outputs": [
        {
          "output_type": "stream",
          "name": "stdout",
          "text": [
            "23921\n",
            "9594\n"
          ]
        }
      ]
    },
    {
      "cell_type": "code",
      "source": [
        "clean_df[columns].describe()"
      ],
      "metadata": {
        "colab": {
          "base_uri": "https://localhost:8080/",
          "height": 300
        },
        "id": "F0Q1Cgr7BDui",
        "outputId": "9dc58413-3622-4f0c-9092-87ffb8757b52"
      },
      "execution_count": null,
      "outputs": [
        {
          "output_type": "execute_result",
          "data": {
            "text/plain": [
              "       home_team_total_fifa_points  away_team_total_fifa_points  \\\n",
              "count                  9594.000000                  9594.000000   \n",
              "mean                    804.732541                   785.066604   \n",
              "std                     487.130535                   481.369069   \n",
              "min                       1.000000                     1.000000   \n",
              "25%                     355.000000                   345.000000   \n",
              "50%                     781.000000                   743.000000   \n",
              "75%                    1233.000000                  1201.000000   \n",
              "max                    2164.000000                  2164.000000   \n",
              "\n",
              "       home_team_fifa_rank  away_team_fifa_rank            y  \n",
              "count          9594.000000          9594.000000  9594.000000  \n",
              "mean             82.584740            86.259433     0.802793  \n",
              "std              54.900172            54.992580     0.857202  \n",
              "min               1.000000             1.000000     0.000000  \n",
              "25%              35.000000            40.000000     0.000000  \n",
              "50%              76.000000            80.000000     1.000000  \n",
              "75%             124.000000           128.000000     2.000000  \n",
              "max             211.000000           211.000000     2.000000  "
            ],
            "text/html": [
              "\n",
              "  <div id=\"df-6cf434b4-cd67-43f0-b3c8-f6c431a0da17\">\n",
              "    <div class=\"colab-df-container\">\n",
              "      <div>\n",
              "<style scoped>\n",
              "    .dataframe tbody tr th:only-of-type {\n",
              "        vertical-align: middle;\n",
              "    }\n",
              "\n",
              "    .dataframe tbody tr th {\n",
              "        vertical-align: top;\n",
              "    }\n",
              "\n",
              "    .dataframe thead th {\n",
              "        text-align: right;\n",
              "    }\n",
              "</style>\n",
              "<table border=\"1\" class=\"dataframe\">\n",
              "  <thead>\n",
              "    <tr style=\"text-align: right;\">\n",
              "      <th></th>\n",
              "      <th>home_team_total_fifa_points</th>\n",
              "      <th>away_team_total_fifa_points</th>\n",
              "      <th>home_team_fifa_rank</th>\n",
              "      <th>away_team_fifa_rank</th>\n",
              "      <th>y</th>\n",
              "    </tr>\n",
              "  </thead>\n",
              "  <tbody>\n",
              "    <tr>\n",
              "      <th>count</th>\n",
              "      <td>9594.000000</td>\n",
              "      <td>9594.000000</td>\n",
              "      <td>9594.000000</td>\n",
              "      <td>9594.000000</td>\n",
              "      <td>9594.000000</td>\n",
              "    </tr>\n",
              "    <tr>\n",
              "      <th>mean</th>\n",
              "      <td>804.732541</td>\n",
              "      <td>785.066604</td>\n",
              "      <td>82.584740</td>\n",
              "      <td>86.259433</td>\n",
              "      <td>0.802793</td>\n",
              "    </tr>\n",
              "    <tr>\n",
              "      <th>std</th>\n",
              "      <td>487.130535</td>\n",
              "      <td>481.369069</td>\n",
              "      <td>54.900172</td>\n",
              "      <td>54.992580</td>\n",
              "      <td>0.857202</td>\n",
              "    </tr>\n",
              "    <tr>\n",
              "      <th>min</th>\n",
              "      <td>1.000000</td>\n",
              "      <td>1.000000</td>\n",
              "      <td>1.000000</td>\n",
              "      <td>1.000000</td>\n",
              "      <td>0.000000</td>\n",
              "    </tr>\n",
              "    <tr>\n",
              "      <th>25%</th>\n",
              "      <td>355.000000</td>\n",
              "      <td>345.000000</td>\n",
              "      <td>35.000000</td>\n",
              "      <td>40.000000</td>\n",
              "      <td>0.000000</td>\n",
              "    </tr>\n",
              "    <tr>\n",
              "      <th>50%</th>\n",
              "      <td>781.000000</td>\n",
              "      <td>743.000000</td>\n",
              "      <td>76.000000</td>\n",
              "      <td>80.000000</td>\n",
              "      <td>1.000000</td>\n",
              "    </tr>\n",
              "    <tr>\n",
              "      <th>75%</th>\n",
              "      <td>1233.000000</td>\n",
              "      <td>1201.000000</td>\n",
              "      <td>124.000000</td>\n",
              "      <td>128.000000</td>\n",
              "      <td>2.000000</td>\n",
              "    </tr>\n",
              "    <tr>\n",
              "      <th>max</th>\n",
              "      <td>2164.000000</td>\n",
              "      <td>2164.000000</td>\n",
              "      <td>211.000000</td>\n",
              "      <td>211.000000</td>\n",
              "      <td>2.000000</td>\n",
              "    </tr>\n",
              "  </tbody>\n",
              "</table>\n",
              "</div>\n",
              "      <button class=\"colab-df-convert\" onclick=\"convertToInteractive('df-6cf434b4-cd67-43f0-b3c8-f6c431a0da17')\"\n",
              "              title=\"Convert this dataframe to an interactive table.\"\n",
              "              style=\"display:none;\">\n",
              "        \n",
              "  <svg xmlns=\"http://www.w3.org/2000/svg\" height=\"24px\"viewBox=\"0 0 24 24\"\n",
              "       width=\"24px\">\n",
              "    <path d=\"M0 0h24v24H0V0z\" fill=\"none\"/>\n",
              "    <path d=\"M18.56 5.44l.94 2.06.94-2.06 2.06-.94-2.06-.94-.94-2.06-.94 2.06-2.06.94zm-11 1L8.5 8.5l.94-2.06 2.06-.94-2.06-.94L8.5 2.5l-.94 2.06-2.06.94zm10 10l.94 2.06.94-2.06 2.06-.94-2.06-.94-.94-2.06-.94 2.06-2.06.94z\"/><path d=\"M17.41 7.96l-1.37-1.37c-.4-.4-.92-.59-1.43-.59-.52 0-1.04.2-1.43.59L10.3 9.45l-7.72 7.72c-.78.78-.78 2.05 0 2.83L4 21.41c.39.39.9.59 1.41.59.51 0 1.02-.2 1.41-.59l7.78-7.78 2.81-2.81c.8-.78.8-2.07 0-2.86zM5.41 20L4 18.59l7.72-7.72 1.47 1.35L5.41 20z\"/>\n",
              "  </svg>\n",
              "      </button>\n",
              "      \n",
              "  <style>\n",
              "    .colab-df-container {\n",
              "      display:flex;\n",
              "      flex-wrap:wrap;\n",
              "      gap: 12px;\n",
              "    }\n",
              "\n",
              "    .colab-df-convert {\n",
              "      background-color: #E8F0FE;\n",
              "      border: none;\n",
              "      border-radius: 50%;\n",
              "      cursor: pointer;\n",
              "      display: none;\n",
              "      fill: #1967D2;\n",
              "      height: 32px;\n",
              "      padding: 0 0 0 0;\n",
              "      width: 32px;\n",
              "    }\n",
              "\n",
              "    .colab-df-convert:hover {\n",
              "      background-color: #E2EBFA;\n",
              "      box-shadow: 0px 1px 2px rgba(60, 64, 67, 0.3), 0px 1px 3px 1px rgba(60, 64, 67, 0.15);\n",
              "      fill: #174EA6;\n",
              "    }\n",
              "\n",
              "    [theme=dark] .colab-df-convert {\n",
              "      background-color: #3B4455;\n",
              "      fill: #D2E3FC;\n",
              "    }\n",
              "\n",
              "    [theme=dark] .colab-df-convert:hover {\n",
              "      background-color: #434B5C;\n",
              "      box-shadow: 0px 1px 3px 1px rgba(0, 0, 0, 0.15);\n",
              "      filter: drop-shadow(0px 1px 2px rgba(0, 0, 0, 0.3));\n",
              "      fill: #FFFFFF;\n",
              "    }\n",
              "  </style>\n",
              "\n",
              "      <script>\n",
              "        const buttonEl =\n",
              "          document.querySelector('#df-6cf434b4-cd67-43f0-b3c8-f6c431a0da17 button.colab-df-convert');\n",
              "        buttonEl.style.display =\n",
              "          google.colab.kernel.accessAllowed ? 'block' : 'none';\n",
              "\n",
              "        async function convertToInteractive(key) {\n",
              "          const element = document.querySelector('#df-6cf434b4-cd67-43f0-b3c8-f6c431a0da17');\n",
              "          const dataTable =\n",
              "            await google.colab.kernel.invokeFunction('convertToInteractive',\n",
              "                                                     [key], {});\n",
              "          if (!dataTable) return;\n",
              "\n",
              "          const docLinkHtml = 'Like what you see? Visit the ' +\n",
              "            '<a target=\"_blank\" href=https://colab.research.google.com/notebooks/data_table.ipynb>data table notebook</a>'\n",
              "            + ' to learn more about interactive tables.';\n",
              "          element.innerHTML = '';\n",
              "          dataTable['output_type'] = 'display_data';\n",
              "          await google.colab.output.renderOutput(dataTable, element);\n",
              "          const docLink = document.createElement('div');\n",
              "          docLink.innerHTML = docLinkHtml;\n",
              "          element.appendChild(docLink);\n",
              "        }\n",
              "      </script>\n",
              "    </div>\n",
              "  </div>\n",
              "  "
            ]
          },
          "metadata": {},
          "execution_count": 66
        }
      ]
    },
    {
      "cell_type": "code",
      "source": [
        "from sklearn.model_selection import train_test_split\n",
        "# train_size = int(0.75 * len(clean_df))\n",
        "train_df, test_df = train_test_split(clean_df[columns], test_size=0.25, shuffle=True)\n",
        "print(len(train_df))\n",
        "print(len(test_df))"
      ],
      "metadata": {
        "colab": {
          "base_uri": "https://localhost:8080/"
        },
        "id": "DJ-DKVL4donS",
        "outputId": "eb4cc072-e1fb-4895-bfc8-60670b945cd2"
      },
      "execution_count": null,
      "outputs": [
        {
          "output_type": "stream",
          "name": "stdout",
          "text": [
            "7195\n",
            "2399\n"
          ]
        }
      ]
    },
    {
      "cell_type": "code",
      "source": [
        "train_df.drop('y', axis=1).corr()"
      ],
      "metadata": {
        "colab": {
          "base_uri": "https://localhost:8080/",
          "height": 175
        },
        "id": "RgGXZ5VheReB",
        "outputId": "01dc0e71-ed4b-4a38-83ec-d9aaac287245"
      },
      "execution_count": null,
      "outputs": [
        {
          "output_type": "execute_result",
          "data": {
            "text/plain": [
              "                             home_team_total_fifa_points  \\\n",
              "home_team_total_fifa_points                     1.000000   \n",
              "away_team_total_fifa_points                     0.803720   \n",
              "home_team_fifa_rank                            -0.580222   \n",
              "away_team_fifa_rank                            -0.289081   \n",
              "\n",
              "                             away_team_total_fifa_points  home_team_fifa_rank  \\\n",
              "home_team_total_fifa_points                     0.803720            -0.580222   \n",
              "away_team_total_fifa_points                     1.000000            -0.303239   \n",
              "home_team_fifa_rank                            -0.303239             1.000000   \n",
              "away_team_fifa_rank                            -0.556191             0.526451   \n",
              "\n",
              "                             away_team_fifa_rank  \n",
              "home_team_total_fifa_points            -0.289081  \n",
              "away_team_total_fifa_points            -0.556191  \n",
              "home_team_fifa_rank                     0.526451  \n",
              "away_team_fifa_rank                     1.000000  "
            ],
            "text/html": [
              "\n",
              "  <div id=\"df-d831ce27-469c-46cc-b5e4-84a0d80c7bc7\">\n",
              "    <div class=\"colab-df-container\">\n",
              "      <div>\n",
              "<style scoped>\n",
              "    .dataframe tbody tr th:only-of-type {\n",
              "        vertical-align: middle;\n",
              "    }\n",
              "\n",
              "    .dataframe tbody tr th {\n",
              "        vertical-align: top;\n",
              "    }\n",
              "\n",
              "    .dataframe thead th {\n",
              "        text-align: right;\n",
              "    }\n",
              "</style>\n",
              "<table border=\"1\" class=\"dataframe\">\n",
              "  <thead>\n",
              "    <tr style=\"text-align: right;\">\n",
              "      <th></th>\n",
              "      <th>home_team_total_fifa_points</th>\n",
              "      <th>away_team_total_fifa_points</th>\n",
              "      <th>home_team_fifa_rank</th>\n",
              "      <th>away_team_fifa_rank</th>\n",
              "    </tr>\n",
              "  </thead>\n",
              "  <tbody>\n",
              "    <tr>\n",
              "      <th>home_team_total_fifa_points</th>\n",
              "      <td>1.000000</td>\n",
              "      <td>0.803720</td>\n",
              "      <td>-0.580222</td>\n",
              "      <td>-0.289081</td>\n",
              "    </tr>\n",
              "    <tr>\n",
              "      <th>away_team_total_fifa_points</th>\n",
              "      <td>0.803720</td>\n",
              "      <td>1.000000</td>\n",
              "      <td>-0.303239</td>\n",
              "      <td>-0.556191</td>\n",
              "    </tr>\n",
              "    <tr>\n",
              "      <th>home_team_fifa_rank</th>\n",
              "      <td>-0.580222</td>\n",
              "      <td>-0.303239</td>\n",
              "      <td>1.000000</td>\n",
              "      <td>0.526451</td>\n",
              "    </tr>\n",
              "    <tr>\n",
              "      <th>away_team_fifa_rank</th>\n",
              "      <td>-0.289081</td>\n",
              "      <td>-0.556191</td>\n",
              "      <td>0.526451</td>\n",
              "      <td>1.000000</td>\n",
              "    </tr>\n",
              "  </tbody>\n",
              "</table>\n",
              "</div>\n",
              "      <button class=\"colab-df-convert\" onclick=\"convertToInteractive('df-d831ce27-469c-46cc-b5e4-84a0d80c7bc7')\"\n",
              "              title=\"Convert this dataframe to an interactive table.\"\n",
              "              style=\"display:none;\">\n",
              "        \n",
              "  <svg xmlns=\"http://www.w3.org/2000/svg\" height=\"24px\"viewBox=\"0 0 24 24\"\n",
              "       width=\"24px\">\n",
              "    <path d=\"M0 0h24v24H0V0z\" fill=\"none\"/>\n",
              "    <path d=\"M18.56 5.44l.94 2.06.94-2.06 2.06-.94-2.06-.94-.94-2.06-.94 2.06-2.06.94zm-11 1L8.5 8.5l.94-2.06 2.06-.94-2.06-.94L8.5 2.5l-.94 2.06-2.06.94zm10 10l.94 2.06.94-2.06 2.06-.94-2.06-.94-.94-2.06-.94 2.06-2.06.94z\"/><path d=\"M17.41 7.96l-1.37-1.37c-.4-.4-.92-.59-1.43-.59-.52 0-1.04.2-1.43.59L10.3 9.45l-7.72 7.72c-.78.78-.78 2.05 0 2.83L4 21.41c.39.39.9.59 1.41.59.51 0 1.02-.2 1.41-.59l7.78-7.78 2.81-2.81c.8-.78.8-2.07 0-2.86zM5.41 20L4 18.59l7.72-7.72 1.47 1.35L5.41 20z\"/>\n",
              "  </svg>\n",
              "      </button>\n",
              "      \n",
              "  <style>\n",
              "    .colab-df-container {\n",
              "      display:flex;\n",
              "      flex-wrap:wrap;\n",
              "      gap: 12px;\n",
              "    }\n",
              "\n",
              "    .colab-df-convert {\n",
              "      background-color: #E8F0FE;\n",
              "      border: none;\n",
              "      border-radius: 50%;\n",
              "      cursor: pointer;\n",
              "      display: none;\n",
              "      fill: #1967D2;\n",
              "      height: 32px;\n",
              "      padding: 0 0 0 0;\n",
              "      width: 32px;\n",
              "    }\n",
              "\n",
              "    .colab-df-convert:hover {\n",
              "      background-color: #E2EBFA;\n",
              "      box-shadow: 0px 1px 2px rgba(60, 64, 67, 0.3), 0px 1px 3px 1px rgba(60, 64, 67, 0.15);\n",
              "      fill: #174EA6;\n",
              "    }\n",
              "\n",
              "    [theme=dark] .colab-df-convert {\n",
              "      background-color: #3B4455;\n",
              "      fill: #D2E3FC;\n",
              "    }\n",
              "\n",
              "    [theme=dark] .colab-df-convert:hover {\n",
              "      background-color: #434B5C;\n",
              "      box-shadow: 0px 1px 3px 1px rgba(0, 0, 0, 0.15);\n",
              "      filter: drop-shadow(0px 1px 2px rgba(0, 0, 0, 0.3));\n",
              "      fill: #FFFFFF;\n",
              "    }\n",
              "  </style>\n",
              "\n",
              "      <script>\n",
              "        const buttonEl =\n",
              "          document.querySelector('#df-d831ce27-469c-46cc-b5e4-84a0d80c7bc7 button.colab-df-convert');\n",
              "        buttonEl.style.display =\n",
              "          google.colab.kernel.accessAllowed ? 'block' : 'none';\n",
              "\n",
              "        async function convertToInteractive(key) {\n",
              "          const element = document.querySelector('#df-d831ce27-469c-46cc-b5e4-84a0d80c7bc7');\n",
              "          const dataTable =\n",
              "            await google.colab.kernel.invokeFunction('convertToInteractive',\n",
              "                                                     [key], {});\n",
              "          if (!dataTable) return;\n",
              "\n",
              "          const docLinkHtml = 'Like what you see? Visit the ' +\n",
              "            '<a target=\"_blank\" href=https://colab.research.google.com/notebooks/data_table.ipynb>data table notebook</a>'\n",
              "            + ' to learn more about interactive tables.';\n",
              "          element.innerHTML = '';\n",
              "          dataTable['output_type'] = 'display_data';\n",
              "          await google.colab.output.renderOutput(dataTable, element);\n",
              "          const docLink = document.createElement('div');\n",
              "          docLink.innerHTML = docLinkHtml;\n",
              "          element.appendChild(docLink);\n",
              "        }\n",
              "      </script>\n",
              "    </div>\n",
              "  </div>\n",
              "  "
            ]
          },
          "metadata": {},
          "execution_count": 15
        }
      ]
    },
    {
      "cell_type": "code",
      "source": [
        "import seaborn as sns"
      ],
      "metadata": {
        "id": "GPTlqLT2e0h5"
      },
      "execution_count": null,
      "outputs": []
    },
    {
      "cell_type": "code",
      "source": [
        "sns.heatmap(train_df.drop('y', axis=1).corr())"
      ],
      "metadata": {
        "colab": {
          "base_uri": "https://localhost:8080/",
          "height": 420
        },
        "id": "xF-mkPgDfUVM",
        "outputId": "497cb754-3a8a-4b60-b485-070e68a09d1e"
      },
      "execution_count": null,
      "outputs": [
        {
          "output_type": "execute_result",
          "data": {
            "text/plain": [
              "<matplotlib.axes._subplots.AxesSubplot at 0x7f327f771520>"
            ]
          },
          "metadata": {},
          "execution_count": 17
        },
        {
          "output_type": "display_data",
          "data": {
            "text/plain": [
              "<Figure size 432x288 with 2 Axes>"
            ],
            "image/png": "[encoded data removed]"
          },
          "metadata": {
            "needs_background": "light"
          }
        }
      ]
    },
    {
      "cell_type": "code",
      "source": [
        "sns.heatmap(test_df.drop('y', axis=1).corr())"
      ],
      "metadata": {
        "colab": {
          "base_uri": "https://localhost:8080/",
          "height": 420
        },
        "id": "FZcRRXsVobG0",
        "outputId": "38fe327d-387a-4c10-cd84-dc9e1831f860"
      },
      "execution_count": null,
      "outputs": [
        {
          "output_type": "execute_result",
          "data": {
            "text/plain": [
              "<matplotlib.axes._subplots.AxesSubplot at 0x7f327cea57c0>"
            ]
          },
          "metadata": {},
          "execution_count": 18
        },
        {
          "output_type": "display_data",
          "data": {
            "text/plain": [
              "<Figure size 432x288 with 2 Axes>"
            ],
            "image/png": "[encoded data removed]"
          },
          "metadata": {
            "needs_background": "light"
          }
        }
      ]
    },
    {
      "cell_type": "code",
      "source": [
        "from torch import nn\n",
        "class SimpleModel(nn.Module):\n",
        "    def __init__(self):\n",
        "        super().__init__()\n",
        "        self.l1 = nn.Linear(4, 10)\n",
        "        self.act1 = nn.ReLU()\n",
        "        self.l2 = nn.Linear(10, 20)\n",
        "        self.act2 = nn.ReLU()\n",
        "        self.l3 = nn.Linear(20, 8)\n",
        "        self.act3 = nn.ReLU()\n",
        "        self.l4 = nn.Linear(8, 3)\n",
        "\n",
        "        self.loss = nn.CrossEntropyLoss(reduction='sum')\n",
        "    \n",
        "\n",
        "    def forward(self, xb, yb):\n",
        "        xb = self.l1(xb)\n",
        "        xb = self.act1(xb)\n",
        "        xb = self.l2(xb)\n",
        "        xb = self.act2(xb)\n",
        "        xb = self.l3(xb)\n",
        "        xb = self.act3(xb)\n",
        "        logits = self.l4(xb)\n",
        "\n",
        "        loss = self.loss(logits, yb)\n",
        "        return logits, loss"
      ],
      "metadata": {
        "id": "fCFfGHnakX7c"
      },
      "execution_count": null,
      "outputs": []
    },
    {
      "cell_type": "code",
      "source": [
        "import torch\n",
        "from torch.utils.data import Dataset\n",
        "\n",
        "class PandasDataset(Dataset):\n",
        "  def __init__(self, df):\n",
        "    self.x = df.drop('y', axis=1).values\n",
        "    self.y = df['y'].values\n",
        "    self.x = torch.tensor(self.x,dtype=torch.float32)\n",
        "    self.y = torch.tensor(self.y,dtype=int)\n",
        " \n",
        "  def __len__(self):\n",
        "    return len(self.x)\n",
        "   \n",
        "  def __getitem__(self,idx):\n",
        "    return self.x[idx], self.y[idx]\n"
      ],
      "metadata": {
        "id": "oZAgh50Al7y_"
      },
      "execution_count": null,
      "outputs": []
    },
    {
      "cell_type": "code",
      "source": [
        "train_dataset = PandasDataset(train_df)\n",
        "test_dataset = PandasDataset(test_df)\n",
        "train_dataset[0]"
      ],
      "metadata": {
        "colab": {
          "base_uri": "https://localhost:8080/"
        },
        "id": "BbFRl6EzoK5u",
        "outputId": "eccf13e4-4c73-47c3-b97a-2ccd2fe0afcc"
      },
      "execution_count": null,
      "outputs": [
        {
          "output_type": "execute_result",
          "data": {
            "text/plain": [
              "(tensor([ 886., 1022.,   21.,   13.]), tensor(0))"
            ]
          },
          "metadata": {},
          "execution_count": 21
        }
      ]
    },
    {
      "cell_type": "code",
      "source": [
        "from torch.utils.data import DataLoader\n",
        "\n",
        "train_dataloader = DataLoader(train_dataset, batch_size=batch_size, shuffle=True)\n",
        "test_dataloader = DataLoader(test_dataset, batch_size=batch_size, shuffle=True)"
      ],
      "metadata": {
        "id": "ItZKV-X4oo9q"
      },
      "execution_count": null,
      "outputs": []
    },
    {
      "cell_type": "code",
      "source": [
        "def evaluate(model, dataloader):\n",
        "    total_loss = 0 \n",
        "    correct_guess = 0\n",
        "    for xb, yb in tqdm(dataloader):\n",
        "        xb = xb.to(device)\n",
        "        yb = yb.to(device)\n",
        "        with torch.no_grad():\n",
        "            logits, loss = model(xb, yb)\n",
        "            preds = logits.argmax(dim=1)\n",
        "            correct_guess += (preds == yb).sum().item()\n",
        "            total_loss += loss.item()\n",
        "\n",
        "    print('val accuracy: ', correct_guess / len(test_dataset))\n",
        "    print('val loss:', total_loss)"
      ],
      "metadata": {
        "id": "oEhnxcF-plIL"
      },
      "execution_count": null,
      "outputs": []
    },
    {
      "cell_type": "code",
      "source": [
        "from tqdm import tqdm\n",
        "from torch.optim import SGD\n",
        "\n",
        "model = SimpleModel().to(device)\n",
        "optimizer = SGD(model.parameters(), lr=learning_rate)\n",
        "\n",
        "for epoch in range(20):\n",
        "    print('------------------------------ epoch: ', epoch)\n",
        "    total_loss = 0\n",
        "    correct_guess = 0\n",
        "    for xb, yb in tqdm(train_dataloader):\n",
        "        xb = xb.to(device)\n",
        "        yb = yb.to(device)\n",
        "        logits, loss = model(xb, yb)\n",
        "        total_loss += loss.item()\n",
        "        if epoch != 0:\n",
        "            optimizer.zero_grad()\n",
        "            loss.backward()\n",
        "            optimizer.step()\n",
        "\n",
        "        preds = logits.argmax(dim=1)\n",
        "        correct_guess += (preds == yb).sum().item()\n",
        "    \n",
        "    print('train accuracy: ', correct_guess / len(train_dataset))\n",
        "    print('train loss:', total_loss)\n",
        "    evaluate(model, test_dataloader)"
      ],
      "metadata": {
        "colab": {
          "base_uri": "https://localhost:8080/"
        },
        "id": "lzPmz-99pQYz",
        "outputId": "f329b545-eb15-4e72-c902-14100310850d"
      },
      "execution_count": null,
      "outputs": [
        {
          "output_type": "stream",
          "name": "stdout",
          "text": [
            "------------------------------ epoch:  0\n"
          ]
        },
        {
          "output_type": "stream",
          "name": "stderr",
          "text": [
            "100%|██████████| 900/900 [00:00<00:00, 2900.73it/s]\n"
          ]
        },
        {
          "output_type": "stream",
          "name": "stdout",
          "text": [
            "train accuracy:  0.24781097984711606\n",
            "train loss: 98266.26263618469\n"
          ]
        },
        {
          "output_type": "stream",
          "name": "stderr",
          "text": [
            "100%|██████████| 300/300 [00:00<00:00, 3543.47it/s]\n"
          ]
        },
        {
          "output_type": "stream",
          "name": "stdout",
          "text": [
            "val accuracy:  0.24885368903709879\n",
            "val loss: 32900.646911621094\n",
            "------------------------------ epoch:  1\n"
          ]
        },
        {
          "output_type": "stream",
          "name": "stderr",
          "text": [
            "100%|██████████| 900/900 [00:00<00:00, 1463.44it/s]\n"
          ]
        },
        {
          "output_type": "stream",
          "name": "stdout",
          "text": [
            "train accuracy:  0.48394718554551774\n",
            "train loss: 540119.4150629044\n"
          ]
        },
        {
          "output_type": "stream",
          "name": "stderr",
          "text": [
            "100%|██████████| 300/300 [00:00<00:00, 3994.40it/s]\n"
          ]
        },
        {
          "output_type": "stream",
          "name": "stdout",
          "text": [
            "val accuracy:  0.47978324301792413\n",
            "val loss: 2520.071479320526\n",
            "------------------------------ epoch:  2\n"
          ]
        },
        {
          "output_type": "stream",
          "name": "stderr",
          "text": [
            "100%|██████████| 900/900 [00:00<00:00, 1495.83it/s]\n"
          ]
        },
        {
          "output_type": "stream",
          "name": "stdout",
          "text": [
            "train accuracy:  0.48728283530229327\n",
            "train loss: 7525.535544157028\n"
          ]
        },
        {
          "output_type": "stream",
          "name": "stderr",
          "text": [
            "100%|██████████| 300/300 [00:00<00:00, 4247.78it/s]\n"
          ]
        },
        {
          "output_type": "stream",
          "name": "stdout",
          "text": [
            "val accuracy:  0.47978324301792413\n",
            "val loss: 2519.880474090576\n",
            "------------------------------ epoch:  3\n"
          ]
        },
        {
          "output_type": "stream",
          "name": "stderr",
          "text": [
            "100%|██████████| 900/900 [00:00<00:00, 1548.91it/s]\n"
          ]
        },
        {
          "output_type": "stream",
          "name": "stdout",
          "text": [
            "train accuracy:  0.48728283530229327\n",
            "train loss: 7528.290009498596\n"
          ]
        },
        {
          "output_type": "stream",
          "name": "stderr",
          "text": [
            "100%|██████████| 300/300 [00:00<00:00, 3734.26it/s]\n"
          ]
        },
        {
          "output_type": "stream",
          "name": "stdout",
          "text": [
            "val accuracy:  0.47978324301792413\n",
            "val loss: 2520.5351028442383\n",
            "------------------------------ epoch:  4\n"
          ]
        },
        {
          "output_type": "stream",
          "name": "stderr",
          "text": [
            "100%|██████████| 900/900 [00:00<00:00, 1509.35it/s]\n"
          ]
        },
        {
          "output_type": "stream",
          "name": "stdout",
          "text": [
            "train accuracy:  0.48728283530229327\n",
            "train loss: 7528.058824539185\n"
          ]
        },
        {
          "output_type": "stream",
          "name": "stderr",
          "text": [
            "100%|██████████| 300/300 [00:00<00:00, 3831.51it/s]\n"
          ]
        },
        {
          "output_type": "stream",
          "name": "stdout",
          "text": [
            "val accuracy:  0.47978324301792413\n",
            "val loss: 2518.5757446289062\n",
            "------------------------------ epoch:  5\n"
          ]
        },
        {
          "output_type": "stream",
          "name": "stderr",
          "text": [
            "100%|██████████| 900/900 [00:00<00:00, 1476.79it/s]\n"
          ]
        },
        {
          "output_type": "stream",
          "name": "stdout",
          "text": [
            "train accuracy:  0.48728283530229327\n",
            "train loss: 7530.107150554657\n"
          ]
        },
        {
          "output_type": "stream",
          "name": "stderr",
          "text": [
            "100%|██████████| 300/300 [00:00<00:00, 4110.56it/s]\n"
          ]
        },
        {
          "output_type": "stream",
          "name": "stdout",
          "text": [
            "val accuracy:  0.47978324301792413\n",
            "val loss: 2519.926914215088\n",
            "------------------------------ epoch:  6\n"
          ]
        },
        {
          "output_type": "stream",
          "name": "stderr",
          "text": [
            "100%|██████████| 900/900 [00:00<00:00, 1475.71it/s]\n"
          ]
        },
        {
          "output_type": "stream",
          "name": "stdout",
          "text": [
            "train accuracy:  0.48728283530229327\n",
            "train loss: 7528.397511005402\n"
          ]
        },
        {
          "output_type": "stream",
          "name": "stderr",
          "text": [
            "100%|██████████| 300/300 [00:00<00:00, 3918.02it/s]\n"
          ]
        },
        {
          "output_type": "stream",
          "name": "stdout",
          "text": [
            "val accuracy:  0.47978324301792413\n",
            "val loss: 2518.8937559127808\n",
            "------------------------------ epoch:  7\n"
          ]
        },
        {
          "output_type": "stream",
          "name": "stderr",
          "text": [
            "100%|██████████| 900/900 [00:00<00:00, 1470.26it/s]\n"
          ]
        },
        {
          "output_type": "stream",
          "name": "stdout",
          "text": [
            "train accuracy:  0.48728283530229327\n",
            "train loss: 7528.5515213012695\n"
          ]
        },
        {
          "output_type": "stream",
          "name": "stderr",
          "text": [
            "100%|██████████| 300/300 [00:00<00:00, 3999.06it/s]\n"
          ]
        },
        {
          "output_type": "stream",
          "name": "stdout",
          "text": [
            "val accuracy:  0.47978324301792413\n",
            "val loss: 2518.103157520294\n",
            "------------------------------ epoch:  8\n"
          ]
        },
        {
          "output_type": "stream",
          "name": "stderr",
          "text": [
            "100%|██████████| 900/900 [00:00<00:00, 1529.84it/s]\n"
          ]
        },
        {
          "output_type": "stream",
          "name": "stdout",
          "text": [
            "train accuracy:  0.48728283530229327\n",
            "train loss: 7523.214648723602\n"
          ]
        },
        {
          "output_type": "stream",
          "name": "stderr",
          "text": [
            "100%|██████████| 300/300 [00:00<00:00, 4008.29it/s]\n"
          ]
        },
        {
          "output_type": "stream",
          "name": "stdout",
          "text": [
            "val accuracy:  0.47978324301792413\n",
            "val loss: 2523.7090454101562\n",
            "------------------------------ epoch:  9\n"
          ]
        },
        {
          "output_type": "stream",
          "name": "stderr",
          "text": [
            "100%|██████████| 900/900 [00:00<00:00, 1526.78it/s]\n"
          ]
        },
        {
          "output_type": "stream",
          "name": "stdout",
          "text": [
            "train accuracy:  0.48728283530229327\n",
            "train loss: 7526.241265535355\n"
          ]
        },
        {
          "output_type": "stream",
          "name": "stderr",
          "text": [
            "100%|██████████| 300/300 [00:00<00:00, 3722.57it/s]\n"
          ]
        },
        {
          "output_type": "stream",
          "name": "stdout",
          "text": [
            "val accuracy:  0.47978324301792413\n",
            "val loss: 2518.5002908706665\n",
            "------------------------------ epoch:  10\n"
          ]
        },
        {
          "output_type": "stream",
          "name": "stderr",
          "text": [
            "100%|██████████| 900/900 [00:00<00:00, 1503.79it/s]\n"
          ]
        },
        {
          "output_type": "stream",
          "name": "stdout",
          "text": [
            "train accuracy:  0.48728283530229327\n",
            "train loss: 7525.848198890686\n"
          ]
        },
        {
          "output_type": "stream",
          "name": "stderr",
          "text": [
            "100%|██████████| 300/300 [00:00<00:00, 3905.00it/s]\n"
          ]
        },
        {
          "output_type": "stream",
          "name": "stdout",
          "text": [
            "val accuracy:  0.47978324301792413\n",
            "val loss: 2520.673825740814\n",
            "------------------------------ epoch:  11\n"
          ]
        },
        {
          "output_type": "stream",
          "name": "stderr",
          "text": [
            "100%|██████████| 900/900 [00:00<00:00, 1507.81it/s]\n"
          ]
        },
        {
          "output_type": "stream",
          "name": "stdout",
          "text": [
            "train accuracy:  0.48728283530229327\n",
            "train loss: 7527.873999595642\n"
          ]
        },
        {
          "output_type": "stream",
          "name": "stderr",
          "text": [
            "100%|██████████| 300/300 [00:00<00:00, 4197.76it/s]\n"
          ]
        },
        {
          "output_type": "stream",
          "name": "stdout",
          "text": [
            "val accuracy:  0.47978324301792413\n",
            "val loss: 2518.137146472931\n",
            "------------------------------ epoch:  12\n"
          ]
        },
        {
          "output_type": "stream",
          "name": "stderr",
          "text": [
            "100%|██████████| 900/900 [00:00<00:00, 1520.96it/s]\n"
          ]
        },
        {
          "output_type": "stream",
          "name": "stdout",
          "text": [
            "train accuracy:  0.48728283530229327\n",
            "train loss: 7528.402320384979\n"
          ]
        },
        {
          "output_type": "stream",
          "name": "stderr",
          "text": [
            "100%|██████████| 300/300 [00:00<00:00, 3547.67it/s]\n"
          ]
        },
        {
          "output_type": "stream",
          "name": "stdout",
          "text": [
            "val accuracy:  0.47978324301792413\n",
            "val loss: 2520.386703968048\n",
            "------------------------------ epoch:  13\n"
          ]
        },
        {
          "output_type": "stream",
          "name": "stderr",
          "text": [
            "100%|██████████| 900/900 [00:00<00:00, 1546.73it/s]\n"
          ]
        },
        {
          "output_type": "stream",
          "name": "stdout",
          "text": [
            "train accuracy:  0.48728283530229327\n",
            "train loss: 7523.241885900497\n"
          ]
        },
        {
          "output_type": "stream",
          "name": "stderr",
          "text": [
            "100%|██████████| 300/300 [00:00<00:00, 3891.88it/s]\n"
          ]
        },
        {
          "output_type": "stream",
          "name": "stdout",
          "text": [
            "val accuracy:  0.47978324301792413\n",
            "val loss: 2522.893762588501\n",
            "------------------------------ epoch:  14\n"
          ]
        },
        {
          "output_type": "stream",
          "name": "stderr",
          "text": [
            "100%|██████████| 900/900 [00:00<00:00, 1484.88it/s]\n"
          ]
        },
        {
          "output_type": "stream",
          "name": "stdout",
          "text": [
            "train accuracy:  0.48728283530229327\n",
            "train loss: 7527.023463964462\n"
          ]
        },
        {
          "output_type": "stream",
          "name": "stderr",
          "text": [
            "100%|██████████| 300/300 [00:00<00:00, 3935.85it/s]\n"
          ]
        },
        {
          "output_type": "stream",
          "name": "stdout",
          "text": [
            "val accuracy:  0.47978324301792413\n",
            "val loss: 2527.998990535736\n",
            "------------------------------ epoch:  15\n"
          ]
        },
        {
          "output_type": "stream",
          "name": "stderr",
          "text": [
            "100%|██████████| 900/900 [00:00<00:00, 1554.26it/s]\n"
          ]
        },
        {
          "output_type": "stream",
          "name": "stdout",
          "text": [
            "train accuracy:  0.48728283530229327\n",
            "train loss: 7525.53472328186\n"
          ]
        },
        {
          "output_type": "stream",
          "name": "stderr",
          "text": [
            "100%|██████████| 300/300 [00:00<00:00, 3548.23it/s]\n"
          ]
        },
        {
          "output_type": "stream",
          "name": "stdout",
          "text": [
            "val accuracy:  0.47978324301792413\n",
            "val loss: 2522.9127950668335\n",
            "------------------------------ epoch:  16\n"
          ]
        },
        {
          "output_type": "stream",
          "name": "stderr",
          "text": [
            "100%|██████████| 900/900 [00:00<00:00, 1564.88it/s]\n"
          ]
        },
        {
          "output_type": "stream",
          "name": "stdout",
          "text": [
            "train accuracy:  0.48728283530229327\n",
            "train loss: 7527.143260002136\n"
          ]
        },
        {
          "output_type": "stream",
          "name": "stderr",
          "text": [
            "100%|██████████| 300/300 [00:00<00:00, 3970.40it/s]\n"
          ]
        },
        {
          "output_type": "stream",
          "name": "stdout",
          "text": [
            "val accuracy:  0.47978324301792413\n",
            "val loss: 2528.7000045776367\n",
            "------------------------------ epoch:  17\n"
          ]
        },
        {
          "output_type": "stream",
          "name": "stderr",
          "text": [
            "100%|██████████| 900/900 [00:00<00:00, 1441.56it/s]\n"
          ]
        },
        {
          "output_type": "stream",
          "name": "stdout",
          "text": [
            "train accuracy:  0.48728283530229327\n",
            "train loss: 7530.4371020793915\n"
          ]
        },
        {
          "output_type": "stream",
          "name": "stderr",
          "text": [
            "100%|██████████| 300/300 [00:00<00:00, 3876.42it/s]\n"
          ]
        },
        {
          "output_type": "stream",
          "name": "stdout",
          "text": [
            "val accuracy:  0.47978324301792413\n",
            "val loss: 2524.7193751335144\n",
            "------------------------------ epoch:  18\n"
          ]
        },
        {
          "output_type": "stream",
          "name": "stderr",
          "text": [
            "100%|██████████| 900/900 [00:00<00:00, 1556.39it/s]\n"
          ]
        },
        {
          "output_type": "stream",
          "name": "stdout",
          "text": [
            "train accuracy:  0.48728283530229327\n",
            "train loss: 7525.707681894302\n"
          ]
        },
        {
          "output_type": "stream",
          "name": "stderr",
          "text": [
            "100%|██████████| 300/300 [00:00<00:00, 3830.46it/s]\n"
          ]
        },
        {
          "output_type": "stream",
          "name": "stdout",
          "text": [
            "val accuracy:  0.47978324301792413\n",
            "val loss: 2527.8341851234436\n",
            "------------------------------ epoch:  19\n"
          ]
        },
        {
          "output_type": "stream",
          "name": "stderr",
          "text": [
            "100%|██████████| 900/900 [00:00<00:00, 1593.36it/s]\n"
          ]
        },
        {
          "output_type": "stream",
          "name": "stdout",
          "text": [
            "train accuracy:  0.48728283530229327\n",
            "train loss: 7528.079185724258\n"
          ]
        },
        {
          "output_type": "stream",
          "name": "stderr",
          "text": [
            "100%|██████████| 300/300 [00:00<00:00, 3779.31it/s]"
          ]
        },
        {
          "output_type": "stream",
          "name": "stdout",
          "text": [
            "val accuracy:  0.47978324301792413\n",
            "val loss: 2520.96422290802\n"
          ]
        },
        {
          "output_type": "stream",
          "name": "stderr",
          "text": [
            "\n"
          ]
        }
      ]
    },
    {
      "cell_type": "code",
      "source": [
        "evaluate(model, test_dataloader)"
      ],
      "metadata": {
        "colab": {
          "base_uri": "https://localhost:8080/"
        },
        "id": "VCE1E8s9p-nh",
        "outputId": "d4e4a843-f467-487f-f316-631dbbd8ca7a"
      },
      "execution_count": null,
      "outputs": [
        {
          "output_type": "stream",
          "name": "stderr",
          "text": [
            "100%|██████████| 300/300 [00:00<00:00, 3953.41it/s]"
          ]
        },
        {
          "output_type": "stream",
          "name": "stdout",
          "text": [
            "val accuracy:  0.47978324301792413\n",
            "val loss: 2520.96422624588\n"
          ]
        },
        {
          "output_type": "stream",
          "name": "stderr",
          "text": [
            "\n"
          ]
        }
      ]
    },
    {
      "cell_type": "markdown",
      "source": [
        "Accuracy on test set in the simple model is 50.14%"
      ],
      "metadata": {
        "id": "2AhGZAgIrA8i"
      }
    },
    {
      "cell_type": "markdown",
      "source": [
        "# Better Model"
      ],
      "metadata": {
        "id": "6rZjY55_C1hh"
      }
    },
    {
      "cell_type": "code",
      "source": [
        "batch_size = 8\n",
        "\n",
        "from scipy.stats import zscore\n",
        "\n",
        "test_df_normalized = test_df[columns].apply(zscore)\n",
        "# test_df_normalized = test_df[columns].apply(lambda x: (x - x.min()) / (x.max() - x.min()))\n",
        "test_df_normalized['y'] = test_df['y']\n",
        "train_df_normalized = train_df[columns].apply(zscore)\n",
        "# train_df_normalized = train_df[columns].apply(lambda x: (x - x.mean()) / (x.max() - x.min()))\n",
        "train_df_normalized['y'] = train_df['y']\n",
        "# print(train_df_normalized.describe())\n",
        "# print(test_df_normalized.describe())\n",
        "\n",
        "train_dataset_normalized = PandasDataset(train_df_normalized)\n",
        "test_dataset_normalized = PandasDataset(test_df_normalized)\n",
        "train_dataloader_normalized = DataLoader(train_dataset_normalized, batch_size=batch_size, shuffle=True)\n",
        "test_dataloader_normalized = DataLoader(test_dataset_normalized, batch_size=batch_size, shuffle=True)"
      ],
      "metadata": {
        "id": "7yeGEL_IC3ij"
      },
      "execution_count": null,
      "outputs": []
    },
    {
      "cell_type": "code",
      "source": [
        "class BetterModel(nn.Module):\n",
        "    def __init__(self):\n",
        "        super().__init__()\n",
        "        self.act = nn.ReLU()\n",
        "        self.l1 = nn.Linear(4, 10)\n",
        "        self.l2 = nn.Linear(10, 20)\n",
        "        self.l3 = nn.Linear(16, 32)\n",
        "        self.l4 = nn.Linear(32, 16)\n",
        "        self.l5 = nn.Linear(20, 8)\n",
        "        self.l6 = nn.Linear(8, 3)\n",
        "\n",
        "        # self.dropout = torch.nn.Dropout(0.2)\n",
        "        self.loss = nn.CrossEntropyLoss()\n",
        "    \n",
        "\n",
        "    def forward(self, xb, yb=None):\n",
        "        xb = self.act(self.l1(xb))\n",
        "        xb = self.act(self.l2(xb))\n",
        "        # xb = self.act(self.l3(xb))\n",
        "        # xb = self.act(self.l4(xb))\n",
        "        xb = self.act(self.l5(xb))\n",
        "        # xb = self.dropout(self.act(self.l1(xb)))\n",
        "        # xb = self.dropout(self.act(self.l2(xb)))\n",
        "        # xb = self.dropout(self.act(self.l3(xb)))\n",
        "        # xb = self.dropout(self.act(self.l4(xb)))\n",
        "        # xb = self.dropout(self.act(self.l5(xb)))\n",
        "        logits = self.l6(xb)\n",
        "\n",
        "        if not yb is None:\n",
        "            loss = self.loss(logits, yb)\n",
        "        else:\n",
        "            loss = None\n",
        "        return logits, loss"
      ],
      "metadata": {
        "id": "4il1Y7HnrAQ9"
      },
      "execution_count": null,
      "outputs": []
    },
    {
      "cell_type": "code",
      "source": [
        "from tqdm import tqdm\n",
        "from torch.optim import SGD, Adam\n",
        "\n",
        "learning_rate_better = 0.0001\n",
        "# learning_rate_better = 0.001\n",
        "\n",
        "better_model = BetterModel().to(device)\n",
        "# optimizer = SGD(better_model.parameters(), lr=learning_rate_better)\n",
        "# optimizer = SGD(better_model.parameters(), lr=learning_rate_better, momentum=0.001, weight_decay=0.001)\n",
        "# optimizer = SGD(better_model.parameters(), lr=learning_rate_better, momentum=0.0001)\n",
        "optimizer = Adam(better_model.parameters(), lr=learning_rate_better)\n",
        "\n",
        "for epoch in range(10):\n",
        "    print('------------------------------ epoch: ', epoch)\n",
        "    total_loss = 0\n",
        "    correct_guess = 0\n",
        "    for xb, yb in tqdm(train_dataloader_normalized):\n",
        "        xb = xb.to(device)\n",
        "        yb = yb.to(device)\n",
        "        logits, loss = better_model(xb, yb)\n",
        "        total_loss += loss.item()\n",
        "        if epoch != 0:\n",
        "            optimizer.zero_grad()\n",
        "            loss.backward()\n",
        "            optimizer.step()\n",
        "\n",
        "        preds = logits.argmax(dim=1)\n",
        "        correct_guess += (preds == yb).sum().item()\n",
        "    \n",
        "    print('train accuracy: ', correct_guess / len(train_dataset))\n",
        "    print('train loss:', total_loss)\n",
        "    evaluate(better_model, test_dataloader_normalized)"
      ],
      "metadata": {
        "colab": {
          "base_uri": "https://localhost:8080/"
        },
        "id": "zzqZ4Q7zrv0U",
        "outputId": "a10fcfd5-f2e3-4734-f1f2-e4c6e9747d1e"
      },
      "execution_count": null,
      "outputs": [
        {
          "output_type": "stream",
          "name": "stdout",
          "text": [
            "------------------------------ epoch:  0\n"
          ]
        },
        {
          "output_type": "stream",
          "name": "stderr",
          "text": [
            "100%|██████████| 900/900 [00:00<00:00, 3426.86it/s]\n"
          ]
        },
        {
          "output_type": "stream",
          "name": "stdout",
          "text": [
            "train accuracy:  0.2878387769284225\n",
            "train loss: 1009.6890305280685\n"
          ]
        },
        {
          "output_type": "stream",
          "name": "stderr",
          "text": [
            "100%|██████████| 300/300 [00:00<00:00, 3894.06it/s]\n"
          ]
        },
        {
          "output_type": "stream",
          "name": "stdout",
          "text": [
            "val accuracy:  0.28928720300125055\n",
            "val loss: 336.2668412923813\n",
            "------------------------------ epoch:  1\n"
          ]
        },
        {
          "output_type": "stream",
          "name": "stderr",
          "text": [
            "100%|██████████| 900/900 [00:01<00:00, 890.83it/s]\n"
          ]
        },
        {
          "output_type": "stream",
          "name": "stdout",
          "text": [
            "train accuracy:  0.4496177901320361\n",
            "train loss: 980.1199029684067\n"
          ]
        },
        {
          "output_type": "stream",
          "name": "stderr",
          "text": [
            "100%|██████████| 300/300 [00:00<00:00, 3768.13it/s]\n"
          ]
        },
        {
          "output_type": "stream",
          "name": "stdout",
          "text": [
            "val accuracy:  0.527719883284702\n",
            "val loss: 321.1095497608185\n",
            "------------------------------ epoch:  2\n"
          ]
        },
        {
          "output_type": "stream",
          "name": "stderr",
          "text": [
            "100%|██████████| 900/900 [00:01<00:00, 896.03it/s]\n"
          ]
        },
        {
          "output_type": "stream",
          "name": "stdout",
          "text": [
            "train accuracy:  0.5332870048644892\n",
            "train loss: 946.4595751166344\n"
          ]
        },
        {
          "output_type": "stream",
          "name": "stderr",
          "text": [
            "100%|██████████| 300/300 [00:00<00:00, 3804.17it/s]\n"
          ]
        },
        {
          "output_type": "stream",
          "name": "stdout",
          "text": [
            "val accuracy:  0.5377240516882034\n",
            "val loss: 310.2998242378235\n",
            "------------------------------ epoch:  3\n"
          ]
        },
        {
          "output_type": "stream",
          "name": "stderr",
          "text": [
            "100%|██████████| 900/900 [00:00<00:00, 901.56it/s]\n"
          ]
        },
        {
          "output_type": "stream",
          "name": "stdout",
          "text": [
            "train accuracy:  0.5609451007644197\n",
            "train loss: 909.0350719094276\n"
          ]
        },
        {
          "output_type": "stream",
          "name": "stderr",
          "text": [
            "100%|██████████| 300/300 [00:00<00:00, 3780.25it/s]\n"
          ]
        },
        {
          "output_type": "stream",
          "name": "stdout",
          "text": [
            "val accuracy:  0.5623176323468112\n",
            "val loss: 297.0995802283287\n",
            "------------------------------ epoch:  4\n"
          ]
        },
        {
          "output_type": "stream",
          "name": "stderr",
          "text": [
            "100%|██████████| 900/900 [00:00<00:00, 903.28it/s]\n"
          ]
        },
        {
          "output_type": "stream",
          "name": "stdout",
          "text": [
            "train accuracy:  0.5747046560111189\n",
            "train loss: 873.6898456811905\n"
          ]
        },
        {
          "output_type": "stream",
          "name": "stderr",
          "text": [
            "100%|██████████| 300/300 [00:00<00:00, 3857.02it/s]\n"
          ]
        },
        {
          "output_type": "stream",
          "name": "stdout",
          "text": [
            "val accuracy:  0.5723218007503126\n",
            "val loss: 287.36226123571396\n",
            "------------------------------ epoch:  5\n"
          ]
        },
        {
          "output_type": "stream",
          "name": "stderr",
          "text": [
            "100%|██████████| 900/900 [00:01<00:00, 867.86it/s]\n"
          ]
        },
        {
          "output_type": "stream",
          "name": "stdout",
          "text": [
            "train accuracy:  0.5745656706045865\n",
            "train loss: 853.6364393234253\n"
          ]
        },
        {
          "output_type": "stream",
          "name": "stderr",
          "text": [
            "100%|██████████| 300/300 [00:00<00:00, 3507.97it/s]\n"
          ]
        },
        {
          "output_type": "stream",
          "name": "stdout",
          "text": [
            "val accuracy:  0.5702375989995832\n",
            "val loss: 282.80543476343155\n",
            "------------------------------ epoch:  6\n"
          ]
        },
        {
          "output_type": "stream",
          "name": "stderr",
          "text": [
            "100%|██████████| 900/900 [00:01<00:00, 868.25it/s]\n"
          ]
        },
        {
          "output_type": "stream",
          "name": "stdout",
          "text": [
            "train accuracy:  0.5742876997915219\n",
            "train loss: 844.0055594444275\n"
          ]
        },
        {
          "output_type": "stream",
          "name": "stderr",
          "text": [
            "100%|██████████| 300/300 [00:00<00:00, 3264.50it/s]\n"
          ]
        },
        {
          "output_type": "stream",
          "name": "stdout",
          "text": [
            "val accuracy:  0.570654439349729\n",
            "val loss: 280.5171711742878\n",
            "------------------------------ epoch:  7\n"
          ]
        },
        {
          "output_type": "stream",
          "name": "stderr",
          "text": [
            "100%|██████████| 900/900 [00:00<00:00, 925.59it/s]\n"
          ]
        },
        {
          "output_type": "stream",
          "name": "stdout",
          "text": [
            "train accuracy:  0.5744266851980542\n",
            "train loss: 838.9941947758198\n"
          ]
        },
        {
          "output_type": "stream",
          "name": "stderr",
          "text": [
            "100%|██████████| 300/300 [00:00<00:00, 3862.34it/s]\n"
          ]
        },
        {
          "output_type": "stream",
          "name": "stdout",
          "text": [
            "val accuracy:  0.5698207586494373\n",
            "val loss: 279.2284038364887\n",
            "------------------------------ epoch:  8\n"
          ]
        },
        {
          "output_type": "stream",
          "name": "stderr",
          "text": [
            "100%|██████████| 900/900 [00:01<00:00, 894.20it/s]\n"
          ]
        },
        {
          "output_type": "stream",
          "name": "stdout",
          "text": [
            "train accuracy:  0.5745656706045865\n",
            "train loss: 836.0712175369263\n"
          ]
        },
        {
          "output_type": "stream",
          "name": "stderr",
          "text": [
            "100%|██████████| 300/300 [00:00<00:00, 3834.31it/s]\n"
          ]
        },
        {
          "output_type": "stream",
          "name": "stdout",
          "text": [
            "val accuracy:  0.5714881200500208\n",
            "val loss: 278.38068252801895\n",
            "------------------------------ epoch:  9\n"
          ]
        },
        {
          "output_type": "stream",
          "name": "stderr",
          "text": [
            "100%|██████████| 900/900 [00:01<00:00, 892.71it/s]\n"
          ]
        },
        {
          "output_type": "stream",
          "name": "stdout",
          "text": [
            "train accuracy:  0.5766504517025712\n",
            "train loss: 834.3055710196495\n"
          ]
        },
        {
          "output_type": "stream",
          "name": "stderr",
          "text": [
            "100%|██████████| 300/300 [00:00<00:00, 3815.92it/s]"
          ]
        },
        {
          "output_type": "stream",
          "name": "stdout",
          "text": [
            "val accuracy:  0.5714881200500208\n",
            "val loss: 277.8643809854984\n"
          ]
        },
        {
          "output_type": "stream",
          "name": "stderr",
          "text": [
            "\n"
          ]
        }
      ]
    },
    {
      "cell_type": "code",
      "source": [
        "evaluate(better_model, test_dataloader_normalized)"
      ],
      "metadata": {
        "colab": {
          "base_uri": "https://localhost:8080/"
        },
        "id": "poL7pHTXrzaS",
        "outputId": "b4aea6eb-69ab-404d-eade-b3f9f6462de6"
      },
      "execution_count": null,
      "outputs": [
        {
          "output_type": "stream",
          "name": "stderr",
          "text": [
            "100%|██████████| 300/300 [00:00<00:00, 3715.47it/s]"
          ]
        },
        {
          "output_type": "stream",
          "name": "stdout",
          "text": [
            "val accuracy:  0.5714881200500208\n",
            "val loss: 277.79635006189346\n"
          ]
        },
        {
          "output_type": "stream",
          "name": "stderr",
          "text": [
            "\n"
          ]
        }
      ]
    },
    {
      "cell_type": "markdown",
      "source": [
        "My better model final accuracy is 57%. I tried increasing the depth and using Adam optimizer instead of simple SGD. "
      ],
      "metadata": {
        "id": "qaMEcjuxUZB2"
      }
    },
    {
      "cell_type": "code",
      "source": [
        "label_map = {\n",
        "    0:'Win',\n",
        "    1:'Draw',\n",
        "    2:'Lose',\n",
        "}\n",
        "\n",
        "iran_wales = torch.tensor([1564.61, 1569.82, 20, 19])\n",
        "logits, _ = better_model(iran_wales)\n",
        "print('vs wales: ', label_map[torch.argmax(logits).item()])\n",
        "\n",
        "iran_usa = torch.tensor([1564.61, 1627.48, 20, 16])\n",
        "logits, _ = better_model(iran_usa)\n",
        "print('vs usa: ', label_map[torch.argmax(logits).item()])\n",
        "\n",
        "iran_uk = torch.tensor([1564.61, 1728.47, 20, 5])\n",
        "logits, _ = better_model(iran_uk)\n",
        "print('vs uk: ', label_map[torch.argmax(logits).item()])\n",
        "\n",
        "\n",
        "\n",
        "# iran_wales = torch.tensor([1569.82, 1564.61, 19, 20,])\n",
        "# iran_usa = torch.tensor([1627.48, 1564.61, 16, 20])\n",
        "# iran_uk = torch.tensor([1564.61, 1841.3, 80, 1])\n"
      ],
      "metadata": {
        "colab": {
          "base_uri": "https://localhost:8080/"
        },
        "id": "DeI668RfMJjC",
        "outputId": "3ced6ae0-1fe8-4311-d8d9-20dd2b64edc0"
      },
      "execution_count": null,
      "outputs": [
        {
          "output_type": "stream",
          "name": "stdout",
          "text": [
            "vs wales:  Win\n",
            "vs usa:  Win\n",
            "vs uk:  Win\n"
          ]
        }
      ]
    },
    {
      "cell_type": "markdown",
      "source": [
        "Iran wins all 3 matches! (If it is a home game). Sadly, not iran, and not his opponents play in home :( "
      ],
      "metadata": {
        "id": "KkjVGK5jUGDy"
      }
    }
  ]
}