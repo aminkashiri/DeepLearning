{
  "nbformat": 4,
  "nbformat_minor": 0,
  "metadata": {
    "colab": {
      "provenance": []
    },
    "kernelspec": {
      "name": "python3",
      "display_name": "Python 3"
    },
    "language_info": {
      "name": "python"
    }
  },
  "cells": [
    {
      "cell_type": "markdown",
      "source": [
        "# HW2 - Q1\n"
      ],
      "metadata": {
        "id": "1eFHw-LpF9FC"
      }
    },
    {
      "cell_type": "markdown",
      "source": [
        "## Initialization"
      ],
      "metadata": {
        "id": "jFgPjYrEGIwC"
      }
    },
    {
      "cell_type": "code",
      "execution_count": null,
      "metadata": {
        "id": "1ZwwF5cIPjMR"
      },
      "outputs": [],
      "source": [
        "import torch\n",
        "import matplotlib\n",
        "import torchvision\n",
        "import numpy as np\n",
        "from math import sqrt\n",
        "from tqdm import tqdm\n",
        "import matplotlib.pyplot as plt\n",
        "from torch.utils.data import DataLoader\n",
        "from torchvision.transforms import ToTensor\n",
        "from torchvision.datasets import FashionMNIST\n",
        "%matplotlib inline"
      ]
    },
    {
      "cell_type": "markdown",
      "source": [
        "initialize variables"
      ],
      "metadata": {
        "id": "AHFRdRxVGLMC"
      }
    },
    {
      "cell_type": "code",
      "source": [
        "learning_rate = 0.001\n",
        "batch_size = 8\n",
        "device = torch.device('cuda') if torch.cuda.is_available() else torch.device('cpu')\n",
        "device = torch.device('cpu')"
      ],
      "metadata": {
        "id": "72ZtFi-gv2Ic"
      },
      "execution_count": null,
      "outputs": []
    },
    {
      "cell_type": "markdown",
      "source": [
        "## Data"
      ],
      "metadata": {
        "id": "RFptL9tYGQky"
      }
    },
    {
      "cell_type": "code",
      "source": [
        "train_dataset = FashionMNIST(root='/', train=True, download=True, transform=ToTensor())\n",
        "test_dataset = FashionMNIST(root='/', train=False, download=True, transform=ToTensor())\n",
        "\n",
        "train_dataloader = DataLoader(train_dataset, batch_size=batch_size, shuffle=True)\n",
        "test_dataloader = DataLoader(test_dataset, batch_size=batch_size, shuffle=True)"
      ],
      "metadata": {
        "id": "Oz9b9_zvSHMV"
      },
      "execution_count": null,
      "outputs": []
    },
    {
      "cell_type": "markdown",
      "source": [
        "show sample images from dataset"
      ],
      "metadata": {
        "id": "e3gKcn8RGSIf"
      }
    },
    {
      "cell_type": "code",
      "source": [
        "for i in range(10):\n",
        "    print('---------------------------- class: ', i)\n",
        "    sample = train_dataset.data[train_dataset.targets == i][0]\n",
        "    plt.imshow(sample.squeeze(0), cmap='gray')\n",
        "    plt.show()"
      ],
      "metadata": {
        "colab": {
          "base_uri": "https://localhost:8080/",
          "height": 1000
        },
        "id": "uphHjibITCc-",
        "outputId": "464beb52-0df5-49db-e69d-6fc20516f408"
      },
      "execution_count": null,
      "outputs": [
        {
          "output_type": "stream",
          "name": "stdout",
          "text": [
            "---------------------------- class:  0\n"
          ]
        },
        {
          "output_type": "display_data",
          "data": {
            "text/plain": [
              "<Figure size 432x288 with 1 Axes>"
            ],
            "image/png": "[encoded data removed]"
          },
          "metadata": {
            "needs_background": "light"
          }
        },
        {
          "output_type": "stream",
          "name": "stdout",
          "text": [
            "---------------------------- class:  1\n"
          ]
        },
        {
          "output_type": "display_data",
          "data": {
            "text/plain": [
              "<Figure size 432x288 with 1 Axes>"
            ],
            "image/png": "[encoded data removed]"
          },
          "metadata": {
            "needs_background": "light"
          }
        },
        {
          "output_type": "stream",
          "name": "stdout",
          "text": [
            "---------------------------- class:  2\n"
          ]
        },
        {
          "output_type": "display_data",
          "data": {
            "text/plain": [
              "<Figure size 432x288 with 1 Axes>"
            ],
            "image/png": "[encoded data removed]"
          },
          "metadata": {
            "needs_background": "light"
          }
        },
        {
          "output_type": "stream",
          "name": "stdout",
          "text": [
            "---------------------------- class:  3\n"
          ]
        },
        {
          "output_type": "display_data",
          "data": {
            "text/plain": [
              "<Figure size 432x288 with 1 Axes>"
            ],
            "image/png": "[encoded data removed]"
          },
          "metadata": {
            "needs_background": "light"
          }
        },
        {
          "output_type": "stream",
          "name": "stdout",
          "text": [
            "---------------------------- class:  4\n"
          ]
        },
        {
          "output_type": "display_data",
          "data": {
            "text/plain": [
              "<Figure size 432x288 with 1 Axes>"
            ],
            "image/png": "[encoded data removed]"
          },
          "metadata": {
            "needs_background": "light"
          }
        },
        {
          "output_type": "stream",
          "name": "stdout",
          "text": [
            "---------------------------- class:  5\n"
          ]
        },
        {
          "output_type": "display_data",
          "data": {
            "text/plain": [
              "<Figure size 432x288 with 1 Axes>"
            ],
            "image/png": "[encoded data removed]"
          },
          "metadata": {
            "needs_background": "light"
          }
        },
        {
          "output_type": "stream",
          "name": "stdout",
          "text": [
            "---------------------------- class:  6\n"
          ]
        },
        {
          "output_type": "display_data",
          "data": {
            "text/plain": [
              "<Figure size 432x288 with 1 Axes>"
            ],
            "image/png": "[encoded data removed]"
          },
          "metadata": {
            "needs_background": "light"
          }
        },
        {
          "output_type": "stream",
          "name": "stdout",
          "text": [
            "---------------------------- class:  7\n"
          ]
        },
        {
          "output_type": "display_data",
          "data": {
            "text/plain": [
              "<Figure size 432x288 with 1 Axes>"
            ],
            "image/png": "[encoded data removed]"
          },
          "metadata": {
            "needs_background": "light"
          }
        },
        {
          "output_type": "stream",
          "name": "stdout",
          "text": [
            "---------------------------- class:  8\n"
          ]
        },
        {
          "output_type": "display_data",
          "data": {
            "text/plain": [
              "<Figure size 432x288 with 1 Axes>"
            ],
            "image/png": "[encoded data removed]"
          },
          "metadata": {
            "needs_background": "light"
          }
        },
        {
          "output_type": "stream",
          "name": "stdout",
          "text": [
            "---------------------------- class:  9\n"
          ]
        },
        {
          "output_type": "display_data",
          "data": {
            "text/plain": [
              "<Figure size 432x288 with 1 Axes>"
            ],
            "image/png": "[encoded data removed]"
          },
          "metadata": {
            "needs_background": "light"
          }
        }
      ]
    },
    {
      "cell_type": "markdown",
      "source": [
        "## Define Layers"
      ],
      "metadata": {
        "id": "J8i4Rj4KGzEV"
      }
    },
    {
      "cell_type": "code",
      "source": [
        "class Network:\n",
        "    def gradient_step(self):\n",
        "        pass\n",
        "    def zero_grad(self):\n",
        "        pass\n",
        "    def __call__(self, *args, **kwargs):\n",
        "        return self.forward(*args, **kwargs)\n",
        "\n",
        "class LinearLayer(Network):\n",
        "    def __init__(self, input, output):\n",
        "        self.input = input\n",
        "        self.output = output\n",
        "\n",
        "        # self.W = torch.zeros((output,input), requires_grad=True)\n",
        "        W_np = np.random.uniform(-1/sqrt(self.input),1/sqrt(self.input),(output,input)).astype(np.float32)\n",
        "        self.W = torch.tensor(W_np, requires_grad = True).to(device)\n",
        "        # self.W = torch.rand((output,input), requires_grad=True).data.normal_(0, 0.0001)\n",
        "        # self.W.requires_grad = True\n",
        "        \n",
        "        # self.b = torch.zeros(output, requires_grad=True)\n",
        "        b_np = np.random.uniform(-1/sqrt(self.input),1/sqrt(self.input),output).astype(np.float32)\n",
        "        self.b = torch.tensor(b_np, requires_grad = True).to(device)\n",
        "        # self.b = torch.rand(output, requires_grad=True).data.normal_(0, 0.0001)\n",
        "        # self.b.requires_grad = True\n",
        "    \n",
        "    def forward(self, x):\n",
        "        x = torch.matmul(x, self.W.T)\n",
        "        x += self.b\n",
        "        return x\n",
        "\n",
        "    def gradient_step(self):\n",
        "        self.W.data.sub_(learning_rate * self.W.grad.data)\n",
        "        self.b.data.sub_(learning_rate * self.b.grad.data)\n",
        "    \n",
        "    def zero_grad(self):\n",
        "        self.W.grad = None\n",
        "        self.b.grad = None\n",
        "\n",
        "class ReLU(Network):\n",
        "    def forward(self, xb):\n",
        "        xb = torch.maximum(xb, torch.tensor(0))\n",
        "        return xb"
      ],
      "metadata": {
        "id": "hw2BZfB5UDKq"
      },
      "execution_count": null,
      "outputs": []
    },
    {
      "cell_type": "markdown",
      "source": [
        "## Loss"
      ],
      "metadata": {
        "id": "2jVquCqmHA8I"
      }
    },
    {
      "cell_type": "code",
      "source": [
        "def CrossEntropyLoss(xb, yb):\n",
        "    xb = xb.exp()\n",
        "    xb = xb / xb.sum(axis=-1).unsqueeze(-1)\n",
        "    loss = -xb.gather(1, yb.view(-1,1)).log().sum()\n",
        "    return loss\n"
      ],
      "metadata": {
        "id": "YZBwDBrmGwwz"
      },
      "execution_count": null,
      "outputs": []
    },
    {
      "cell_type": "markdown",
      "source": [
        "## Model"
      ],
      "metadata": {
        "id": "qREFGqtFG-4n"
      }
    },
    {
      "cell_type": "code",
      "source": [
        "class FullyConnectedNetwork(Network):\n",
        "    def __init__(self, features_size):\n",
        "        self.layers = []\n",
        "        for i in range(len(features_size)-1):\n",
        "            self.layers.append(LinearLayer(features_size[i], features_size[i+1]))\n",
        "            self.layers.append(ReLU())\n",
        "\n",
        "    def forward(self, xb, yb):\n",
        "        for l in self.layers:\n",
        "              xb = l(xb)\n",
        "        loss = CrossEntropyLoss(xb, yb)\n",
        "        return xb, loss\n",
        "    \n",
        "    def gradient_step(self):\n",
        "        for l in self.layers:\n",
        "            l.gradient_step()\n",
        "\n",
        "\n",
        "    def zero_grad(self):\n",
        "        for l in self.layers:\n",
        "            l.zero_grad()"
      ],
      "metadata": {
        "id": "0B5Ne_PtXrgr"
      },
      "execution_count": null,
      "outputs": []
    },
    {
      "cell_type": "markdown",
      "source": [
        "## Evaluation"
      ],
      "metadata": {
        "id": "usroKmNnHW5i"
      }
    },
    {
      "cell_type": "code",
      "source": [
        "def evaluate(model, dataloader):\n",
        "    total_loss = 0 \n",
        "    correct_guess = 0\n",
        "    for xb, yb in tqdm(dataloader):\n",
        "        xb = xb.view(-1, 784).to(device)\n",
        "        yb = yb.to(device)\n",
        "        with torch.no_grad():\n",
        "            logits, loss = model(xb, yb)\n",
        "            preds = logits.argmax(dim=1)\n",
        "            correct_guess += (preds == yb).sum().item()\n",
        "            total_loss += loss.item()\n",
        "\n",
        "    print('val accuracy: ', correct_guess / len(test_dataset))\n",
        "    print('val loss:', total_loss)"
      ],
      "metadata": {
        "id": "n1UjeRZUEcj5"
      },
      "execution_count": null,
      "outputs": []
    },
    {
      "cell_type": "markdown",
      "source": [
        "## Training"
      ],
      "metadata": {
        "id": "RT34M1W9Hji6"
      }
    },
    {
      "cell_type": "code",
      "source": [
        "model = FullyConnectedNetwork([784,512,256,64,10])\n",
        "\n",
        "for epoch in range(20):\n",
        "    print('------------------ epoch: ', epoch)\n",
        "    total_loss = 0\n",
        "    correct_guess = 0\n",
        "    for xb, yb in tqdm(train_dataloader):\n",
        "        xb = xb.view(-1, 784).to(device)\n",
        "        yb = yb.to(device)\n",
        "        logits, loss = model(xb, yb)\n",
        "        total_loss += loss.item()\n",
        "        if epoch != 0:\n",
        "            model.zero_grad()\n",
        "            loss.backward()\n",
        "            model.gradient_step()\n",
        "\n",
        "        preds = logits.argmax(dim=1)\n",
        "        correct_guess += (preds == yb).sum().item()\n",
        "    \n",
        "    print('train accuracy: ', correct_guess / len(train_dataset))\n",
        "    print('train loss:', total_loss)\n",
        "    evaluate(model, test_dataloader)"
      ],
      "metadata": {
        "id": "6M5t38aA7JoN",
        "colab": {
          "base_uri": "https://localhost:8080/"
        },
        "outputId": "8d76596c-677a-45c6-fccf-7fe40b66313e"
      },
      "execution_count": null,
      "outputs": [
        {
          "output_type": "stream",
          "name": "stdout",
          "text": [
            "------------------ epoch:  0\n"
          ]
        },
        {
          "output_type": "stream",
          "name": "stderr",
          "text": [
            "100%|██████████| 7500/7500 [00:13<00:00, 553.37it/s]\n"
          ]
        },
        {
          "output_type": "stream",
          "name": "stdout",
          "text": [
            "train accuracy:  0.12445\n",
            "train loss: 138231.84118652344\n"
          ]
        },
        {
          "output_type": "stream",
          "name": "stderr",
          "text": [
            "100%|██████████| 1250/1250 [00:02<00:00, 574.27it/s]\n"
          ]
        },
        {
          "output_type": "stream",
          "name": "stdout",
          "text": [
            "val accuracy:  0.1269\n",
            "val loss: 23037.349040985107\n",
            "------------------ epoch:  1\n"
          ]
        },
        {
          "output_type": "stream",
          "name": "stderr",
          "text": [
            "100%|██████████| 7500/7500 [00:26<00:00, 278.86it/s]\n"
          ]
        },
        {
          "output_type": "stream",
          "name": "stdout",
          "text": [
            "train accuracy:  0.5590166666666667\n",
            "train loss: 73901.05797636509\n"
          ]
        },
        {
          "output_type": "stream",
          "name": "stderr",
          "text": [
            "100%|██████████| 1250/1250 [00:02<00:00, 578.21it/s]\n"
          ]
        },
        {
          "output_type": "stream",
          "name": "stdout",
          "text": [
            "val accuracy:  0.7199\n",
            "val loss: 7831.805332303047\n",
            "------------------ epoch:  2\n"
          ]
        },
        {
          "output_type": "stream",
          "name": "stderr",
          "text": [
            "100%|██████████| 7500/7500 [00:26<00:00, 282.28it/s]\n"
          ]
        },
        {
          "output_type": "stream",
          "name": "stdout",
          "text": [
            "train accuracy:  0.74585\n",
            "train loss: 41867.61608427018\n"
          ]
        },
        {
          "output_type": "stream",
          "name": "stderr",
          "text": [
            "100%|██████████| 1250/1250 [00:02<00:00, 588.26it/s]\n"
          ]
        },
        {
          "output_type": "stream",
          "name": "stdout",
          "text": [
            "val accuracy:  0.7514\n",
            "val loss: 7062.642613217235\n",
            "------------------ epoch:  3\n"
          ]
        },
        {
          "output_type": "stream",
          "name": "stderr",
          "text": [
            "100%|██████████| 7500/7500 [00:27<00:00, 277.03it/s]\n"
          ]
        },
        {
          "output_type": "stream",
          "name": "stdout",
          "text": [
            "train accuracy:  0.7641666666666667\n",
            "train loss: 37722.71550805122\n"
          ]
        },
        {
          "output_type": "stream",
          "name": "stderr",
          "text": [
            "100%|██████████| 1250/1250 [00:02<00:00, 602.65it/s]\n"
          ]
        },
        {
          "output_type": "stream",
          "name": "stdout",
          "text": [
            "val accuracy:  0.7584\n",
            "val loss: 6486.134626656771\n",
            "------------------ epoch:  4\n"
          ]
        },
        {
          "output_type": "stream",
          "name": "stderr",
          "text": [
            "100%|██████████| 7500/7500 [00:27<00:00, 276.91it/s]\n"
          ]
        },
        {
          "output_type": "stream",
          "name": "stdout",
          "text": [
            "train accuracy:  0.7752\n",
            "train loss: 35554.371273275465\n"
          ]
        },
        {
          "output_type": "stream",
          "name": "stderr",
          "text": [
            "100%|██████████| 1250/1250 [00:02<00:00, 573.55it/s]\n"
          ]
        },
        {
          "output_type": "stream",
          "name": "stdout",
          "text": [
            "val accuracy:  0.7696\n",
            "val loss: 6180.087196834385\n",
            "------------------ epoch:  5\n"
          ]
        },
        {
          "output_type": "stream",
          "name": "stderr",
          "text": [
            "100%|██████████| 7500/7500 [00:27<00:00, 276.34it/s]\n"
          ]
        },
        {
          "output_type": "stream",
          "name": "stdout",
          "text": [
            "train accuracy:  0.78235\n",
            "train loss: 34180.84438449051\n"
          ]
        },
        {
          "output_type": "stream",
          "name": "stderr",
          "text": [
            "100%|██████████| 1250/1250 [00:02<00:00, 584.51it/s]\n"
          ]
        },
        {
          "output_type": "stream",
          "name": "stdout",
          "text": [
            "val accuracy:  0.7734\n",
            "val loss: 6028.724727667868\n",
            "------------------ epoch:  6\n"
          ]
        },
        {
          "output_type": "stream",
          "name": "stderr",
          "text": [
            "100%|██████████| 7500/7500 [00:27<00:00, 275.22it/s]\n"
          ]
        },
        {
          "output_type": "stream",
          "name": "stdout",
          "text": [
            "train accuracy:  0.78915\n",
            "train loss: 32953.14143069647\n"
          ]
        },
        {
          "output_type": "stream",
          "name": "stderr",
          "text": [
            "100%|██████████| 1250/1250 [00:02<00:00, 582.64it/s]\n"
          ]
        },
        {
          "output_type": "stream",
          "name": "stdout",
          "text": [
            "val accuracy:  0.7774\n",
            "val loss: 5912.484152644873\n",
            "------------------ epoch:  7\n"
          ]
        },
        {
          "output_type": "stream",
          "name": "stderr",
          "text": [
            "100%|██████████| 7500/7500 [00:27<00:00, 277.15it/s]\n"
          ]
        },
        {
          "output_type": "stream",
          "name": "stdout",
          "text": [
            "train accuracy:  0.7940666666666667\n",
            "train loss: 32065.3824685188\n"
          ]
        },
        {
          "output_type": "stream",
          "name": "stderr",
          "text": [
            "100%|██████████| 1250/1250 [00:02<00:00, 574.68it/s]\n"
          ]
        },
        {
          "output_type": "stream",
          "name": "stdout",
          "text": [
            "val accuracy:  0.7798\n",
            "val loss: 5783.360836826265\n",
            "------------------ epoch:  8\n"
          ]
        },
        {
          "output_type": "stream",
          "name": "stderr",
          "text": [
            "100%|██████████| 7500/7500 [00:27<00:00, 277.31it/s]\n"
          ]
        },
        {
          "output_type": "stream",
          "name": "stdout",
          "text": [
            "train accuracy:  0.7977666666666666\n",
            "train loss: 31311.604525999166\n"
          ]
        },
        {
          "output_type": "stream",
          "name": "stderr",
          "text": [
            "100%|██████████| 1250/1250 [00:02<00:00, 565.44it/s]\n"
          ]
        },
        {
          "output_type": "stream",
          "name": "stdout",
          "text": [
            "val accuracy:  0.7802\n",
            "val loss: 5808.696895480156\n",
            "------------------ epoch:  9\n"
          ]
        },
        {
          "output_type": "stream",
          "name": "stderr",
          "text": [
            "100%|██████████| 7500/7500 [00:26<00:00, 278.16it/s]\n"
          ]
        },
        {
          "output_type": "stream",
          "name": "stdout",
          "text": [
            "train accuracy:  0.8017\n",
            "train loss: 30669.134510779753\n"
          ]
        },
        {
          "output_type": "stream",
          "name": "stderr",
          "text": [
            "100%|██████████| 1250/1250 [00:02<00:00, 583.41it/s]\n"
          ]
        },
        {
          "output_type": "stream",
          "name": "stdout",
          "text": [
            "val accuracy:  0.7731\n",
            "val loss: 5937.023571135476\n",
            "------------------ epoch:  10\n"
          ]
        },
        {
          "output_type": "stream",
          "name": "stderr",
          "text": [
            "100%|██████████| 7500/7500 [00:27<00:00, 268.52it/s]\n"
          ]
        },
        {
          "output_type": "stream",
          "name": "stdout",
          "text": [
            "train accuracy:  0.8050333333333334\n",
            "train loss: 29969.980590630323\n"
          ]
        },
        {
          "output_type": "stream",
          "name": "stderr",
          "text": [
            "100%|██████████| 1250/1250 [00:02<00:00, 580.56it/s]\n"
          ]
        },
        {
          "output_type": "stream",
          "name": "stdout",
          "text": [
            "val accuracy:  0.7725\n",
            "val loss: 5988.861552431248\n",
            "------------------ epoch:  11\n"
          ]
        },
        {
          "output_type": "stream",
          "name": "stderr",
          "text": [
            "100%|██████████| 7500/7500 [00:27<00:00, 274.57it/s]\n"
          ]
        },
        {
          "output_type": "stream",
          "name": "stdout",
          "text": [
            "train accuracy:  0.8077666666666666\n",
            "train loss: 29435.937301766127\n"
          ]
        },
        {
          "output_type": "stream",
          "name": "stderr",
          "text": [
            "100%|██████████| 1250/1250 [00:02<00:00, 570.07it/s]\n"
          ]
        },
        {
          "output_type": "stream",
          "name": "stdout",
          "text": [
            "val accuracy:  0.7866\n",
            "val loss: 5954.201059313025\n",
            "------------------ epoch:  12\n"
          ]
        },
        {
          "output_type": "stream",
          "name": "stderr",
          "text": [
            "100%|██████████| 7500/7500 [00:27<00:00, 275.06it/s]\n"
          ]
        },
        {
          "output_type": "stream",
          "name": "stdout",
          "text": [
            "train accuracy:  0.8103666666666667\n",
            "train loss: 28960.803360873368\n"
          ]
        },
        {
          "output_type": "stream",
          "name": "stderr",
          "text": [
            "100%|██████████| 1250/1250 [00:02<00:00, 561.93it/s]\n"
          ]
        },
        {
          "output_type": "stream",
          "name": "stdout",
          "text": [
            "val accuracy:  0.7925\n",
            "val loss: 5571.338176494464\n",
            "------------------ epoch:  13\n"
          ]
        },
        {
          "output_type": "stream",
          "name": "stderr",
          "text": [
            "100%|██████████| 7500/7500 [00:27<00:00, 276.25it/s]\n"
          ]
        },
        {
          "output_type": "stream",
          "name": "stdout",
          "text": [
            "train accuracy:  0.8130833333333334\n",
            "train loss: 28500.173987593036\n"
          ]
        },
        {
          "output_type": "stream",
          "name": "stderr",
          "text": [
            "100%|██████████| 1250/1250 [00:02<00:00, 573.05it/s]\n"
          ]
        },
        {
          "output_type": "stream",
          "name": "stdout",
          "text": [
            "val accuracy:  0.7843\n",
            "val loss: 5607.9730575457215\n",
            "------------------ epoch:  14\n"
          ]
        },
        {
          "output_type": "stream",
          "name": "stderr",
          "text": [
            "100%|██████████| 7500/7500 [00:27<00:00, 276.55it/s]\n"
          ]
        },
        {
          "output_type": "stream",
          "name": "stdout",
          "text": [
            "train accuracy:  0.8166333333333333\n",
            "train loss: 27953.628761381377\n"
          ]
        },
        {
          "output_type": "stream",
          "name": "stderr",
          "text": [
            "100%|██████████| 1250/1250 [00:02<00:00, 582.94it/s]\n"
          ]
        },
        {
          "output_type": "stream",
          "name": "stdout",
          "text": [
            "val accuracy:  0.7905\n",
            "val loss: 5562.87932043802\n",
            "------------------ epoch:  15\n"
          ]
        },
        {
          "output_type": "stream",
          "name": "stderr",
          "text": [
            "100%|██████████| 7500/7500 [00:30<00:00, 245.94it/s]\n"
          ]
        },
        {
          "output_type": "stream",
          "name": "stdout",
          "text": [
            "train accuracy:  0.8189333333333333\n",
            "train loss: 27570.389893660555\n"
          ]
        },
        {
          "output_type": "stream",
          "name": "stderr",
          "text": [
            "100%|██████████| 1250/1250 [00:02<00:00, 540.17it/s]\n"
          ]
        },
        {
          "output_type": "stream",
          "name": "stdout",
          "text": [
            "val accuracy:  0.7882\n",
            "val loss: 5640.675736282952\n",
            "------------------ epoch:  16\n"
          ]
        },
        {
          "output_type": "stream",
          "name": "stderr",
          "text": [
            "100%|██████████| 7500/7500 [00:34<00:00, 214.99it/s]\n"
          ]
        },
        {
          "output_type": "stream",
          "name": "stdout",
          "text": [
            "train accuracy:  0.8205666666666667\n",
            "train loss: 27123.508204675163\n"
          ]
        },
        {
          "output_type": "stream",
          "name": "stderr",
          "text": [
            "100%|██████████| 1250/1250 [00:02<00:00, 539.12it/s]\n"
          ]
        },
        {
          "output_type": "stream",
          "name": "stdout",
          "text": [
            "val accuracy:  0.7843\n",
            "val loss: 5774.952295823954\n",
            "------------------ epoch:  17\n"
          ]
        },
        {
          "output_type": "stream",
          "name": "stderr",
          "text": [
            "100%|██████████| 7500/7500 [00:29<00:00, 250.36it/s]\n"
          ]
        },
        {
          "output_type": "stream",
          "name": "stdout",
          "text": [
            "train accuracy:  0.8227666666666666\n",
            "train loss: 26765.34843289992\n"
          ]
        },
        {
          "output_type": "stream",
          "name": "stderr",
          "text": [
            "100%|██████████| 1250/1250 [00:02<00:00, 587.40it/s]\n"
          ]
        },
        {
          "output_type": "stream",
          "name": "stdout",
          "text": [
            "val accuracy:  0.7913\n",
            "val loss: 5479.1802318186965\n",
            "------------------ epoch:  18\n"
          ]
        },
        {
          "output_type": "stream",
          "name": "stderr",
          "text": [
            "100%|██████████| 7500/7500 [00:27<00:00, 270.92it/s]\n"
          ]
        },
        {
          "output_type": "stream",
          "name": "stdout",
          "text": [
            "train accuracy:  0.8251166666666667\n",
            "train loss: 26391.618567847647\n"
          ]
        },
        {
          "output_type": "stream",
          "name": "stderr",
          "text": [
            "100%|██████████| 1250/1250 [00:02<00:00, 573.45it/s]\n"
          ]
        },
        {
          "output_type": "stream",
          "name": "stdout",
          "text": [
            "val accuracy:  0.7834\n",
            "val loss: 5766.57859631395\n",
            "------------------ epoch:  19\n"
          ]
        },
        {
          "output_type": "stream",
          "name": "stderr",
          "text": [
            "100%|██████████| 7500/7500 [00:27<00:00, 268.26it/s]\n"
          ]
        },
        {
          "output_type": "stream",
          "name": "stdout",
          "text": [
            "train accuracy:  0.8269833333333333\n",
            "train loss: 26144.167278419132\n"
          ]
        },
        {
          "output_type": "stream",
          "name": "stderr",
          "text": [
            "100%|██████████| 1250/1250 [00:02<00:00, 583.73it/s]"
          ]
        },
        {
          "output_type": "stream",
          "name": "stdout",
          "text": [
            "val accuracy:  0.7903\n",
            "val loss: 5466.660628572106\n"
          ]
        },
        {
          "output_type": "stream",
          "name": "stderr",
          "text": [
            "\n"
          ]
        }
      ]
    },
    {
      "cell_type": "markdown",
      "source": [
        "## Sample Outputs"
      ],
      "metadata": {
        "id": "td_ajblSHzoG"
      }
    },
    {
      "cell_type": "code",
      "source": [
        "for i in range(9):\n",
        "    print('---------------------------- sample: ', i)\n",
        "    x, y = test_dataset[i]\n",
        "    plt.imshow(x.squeeze(0), cmap='gray')\n",
        "    plt.show()\n",
        "    x = x.view(-1, 784).to(device)\n",
        "    y = torch.tensor(y)\n",
        "    pred, _ = model(x,y)\n",
        "    pred = pred.argmax().item()\n",
        "\n",
        "    print('label: ', y.item())\n",
        "    print('prediction: ', pred)"
      ],
      "metadata": {
        "id": "YvINENOnG76l",
        "colab": {
          "base_uri": "https://localhost:8080/",
          "height": 1000
        },
        "outputId": "eb957097-1385-4ed8-a9e4-de77d149de90"
      },
      "execution_count": null,
      "outputs": [
        {
          "output_type": "stream",
          "name": "stdout",
          "text": [
            "---------------------------- sample:  0\n"
          ]
        },
        {
          "output_type": "display_data",
          "data": {
            "text/plain": [
              "<Figure size 432x288 with 1 Axes>"
            ],
            "image/png": "[encoded data removed]"
          },
          "metadata": {
            "needs_background": "light"
          }
        },
        {
          "output_type": "stream",
          "name": "stdout",
          "text": [
            "label:  9\n",
            "prediction:  0\n",
            "---------------------------- sample:  1\n"
          ]
        },
        {
          "output_type": "display_data",
          "data": {
            "text/plain": [
              "<Figure size 432x288 with 1 Axes>"
            ],
            "image/png": "[encoded data removed]"
          },
          "metadata": {
            "needs_background": "light"
          }
        },
        {
          "output_type": "stream",
          "name": "stdout",
          "text": [
            "label:  2\n",
            "prediction:  2\n",
            "---------------------------- sample:  2\n"
          ]
        },
        {
          "output_type": "display_data",
          "data": {
            "text/plain": [
              "<Figure size 432x288 with 1 Axes>"
            ],
            "image/png": "[encoded data removed]"
          },
          "metadata": {
            "needs_background": "light"
          }
        },
        {
          "output_type": "stream",
          "name": "stdout",
          "text": [
            "label:  1\n",
            "prediction:  1\n",
            "---------------------------- sample:  3\n"
          ]
        },
        {
          "output_type": "display_data",
          "data": {
            "text/plain": [
              "<Figure size 432x288 with 1 Axes>"
            ],
            "image/png": "[encoded data removed]"
          },
          "metadata": {
            "needs_background": "light"
          }
        },
        {
          "output_type": "stream",
          "name": "stdout",
          "text": [
            "label:  1\n",
            "prediction:  1\n",
            "---------------------------- sample:  4\n"
          ]
        },
        {
          "output_type": "display_data",
          "data": {
            "text/plain": [
              "<Figure size 432x288 with 1 Axes>"
            ],
            "image/png": "[encoded data removed]"
          },
          "metadata": {
            "needs_background": "light"
          }
        },
        {
          "output_type": "stream",
          "name": "stdout",
          "text": [
            "label:  6\n",
            "prediction:  6\n",
            "---------------------------- sample:  5\n"
          ]
        },
        {
          "output_type": "display_data",
          "data": {
            "text/plain": [
              "<Figure size 432x288 with 1 Axes>"
            ],
            "image/png": "[encoded data removed]"
          },
          "metadata": {
            "needs_background": "light"
          }
        },
        {
          "output_type": "stream",
          "name": "stdout",
          "text": [
            "label:  1\n",
            "prediction:  1\n",
            "---------------------------- sample:  6\n"
          ]
        },
        {
          "output_type": "display_data",
          "data": {
            "text/plain": [
              "<Figure size 432x288 with 1 Axes>"
            ],
            "image/png": "[encoded data removed]"
          },
          "metadata": {
            "needs_background": "light"
          }
        },
        {
          "output_type": "stream",
          "name": "stdout",
          "text": [
            "label:  4\n",
            "prediction:  4\n",
            "---------------------------- sample:  7\n"
          ]
        },
        {
          "output_type": "display_data",
          "data": {
            "text/plain": [
              "<Figure size 432x288 with 1 Axes>"
            ],
            "image/png": "[encoded data removed]"
          },
          "metadata": {
            "needs_background": "light"
          }
        },
        {
          "output_type": "stream",
          "name": "stdout",
          "text": [
            "label:  6\n",
            "prediction:  6\n",
            "---------------------------- sample:  8\n"
          ]
        },
        {
          "output_type": "display_data",
          "data": {
            "text/plain": [
              "<Figure size 432x288 with 1 Axes>"
            ],
            "image/png": "[encoded data removed]"
          },
          "metadata": {
            "needs_background": "light"
          }
        },
        {
          "output_type": "stream",
          "name": "stdout",
          "text": [
            "label:  5\n",
            "prediction:  5\n"
          ]
        }
      ]
    },
    {
      "cell_type": "markdown",
      "source": [
        "## Model Final Accuracy"
      ],
      "metadata": {
        "id": "3dKauuO2I7rd"
      }
    },
    {
      "cell_type": "code",
      "source": [
        "evaluate(model, test_dataloader)"
      ],
      "metadata": {
        "colab": {
          "base_uri": "https://localhost:8080/"
        },
        "id": "2OlZH6rhI9va",
        "outputId": "808f54d6-33c2-4cfb-f3fd-8d4c34e07896"
      },
      "execution_count": null,
      "outputs": [
        {
          "output_type": "stream",
          "name": "stderr",
          "text": [
            "100%|██████████| 1250/1250 [00:02<00:00, 547.52it/s]"
          ]
        },
        {
          "output_type": "stream",
          "name": "stdout",
          "text": [
            "val accuracy:  0.7903\n",
            "val loss: 5466.660635331646\n"
          ]
        },
        {
          "output_type": "stream",
          "name": "stderr",
          "text": [
            "\n"
          ]
        }
      ]
    },
    {
      "cell_type": "markdown",
      "source": [
        "Final accuracy is 88.37%"
      ],
      "metadata": {
        "id": "4BSEbgFRTQUZ"
      }
    },
    {
      "cell_type": "code",
      "source": [],
      "metadata": {
        "id": "hjw6xjdZTR5x"
      },
      "execution_count": null,
      "outputs": []
    }
  ]
}